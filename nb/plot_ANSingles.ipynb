{
 "cells": [
  {
   "cell_type": "code",
   "execution_count": 11,
   "metadata": {},
   "outputs": [
    {
     "name": "stdout",
     "output_type": "stream",
     "text": [
      "AN_Result_VCN_c09_inp=VCN_c10_XM13nacncoop_II_soma=1.489_dend=1.236_Syn000_multisite_005_tonepip_030dB_16000.0_HS.p\n",
      "AN_Result_VCN_c09_inp=VCN_c10_XM13nacncoop_II_soma=1.489_dend=1.236_Syn001_multisite_005_tonepip_030dB_16000.0_HS.p\n",
      "AN_Result_VCN_c09_inp=VCN_c10_XM13nacncoop_II_soma=1.489_dend=1.236_Syn002_multisite_005_tonepip_030dB_16000.0_HS.p\n",
      "AN_Result_VCN_c09_inp=VCN_c10_XM13nacncoop_II_soma=1.489_dend=1.236_Syn003_multisite_005_tonepip_030dB_16000.0_HS.p\n",
      "AN_Result_VCN_c09_inp=VCN_c10_XM13nacncoop_II_soma=1.489_dend=1.236_Syn004_multisite_005_tonepip_030dB_16000.0_HS.p\n",
      "AN_Result_VCN_c09_inp=VCN_c10_XM13nacncoop_II_soma=1.489_dend=1.236_Syn005_multisite_005_tonepip_030dB_16000.0_HS.p\n",
      "AN_Result_VCN_c09_inp=VCN_c10_XM13nacncoop_II_soma=1.489_dend=1.236_Syn006_multisite_005_tonepip_030dB_16000.0_HS.p\n",
      "AN_Result_VCN_c09_inp=VCN_c10_XM13nacncoop_II_soma=1.489_dend=1.236_Syn007_multisite_005_tonepip_030dB_16000.0_HS.p\n",
      "AN_Result_VCN_c09_inp=VCN_c10_XM13nacncoop_II_soma=1.489_dend=1.236_Syn008_multisite_005_tonepip_030dB_16000.0_HS.p\n",
      "AN_Result_VCN_c09_inp=VCN_c10_XM13nacncoop_II_soma=1.489_dend=1.236_Syn009_multisite_005_tonepip_030dB_16000.0_HS.p\n"
     ]
    },
    {
     "name": "stderr",
     "output_type": "stream",
     "text": [
      "/Users/pbmanis/anaconda/envs/py3mpl3/lib/python3.6/site-packages/ipykernel_launcher.py:7: UserWarning: matplotlib.pyplot as already been imported, this call will have no effect.\n",
      "  import sys\n"
     ]
    }
   ],
   "source": [
    "\"\"\"\n",
    "python model_run.py VCN_c09 --type Bushy --modeltype II --protocol runANSingles -H --model XM13nacncoop  -r 5 --sgcmodel cochlea -S MS  -f 16000. --soma-autoinflate --dendrite-autoinflate --noparallel\n",
    "# python model_run.py VCN_c09 --type Bushy --modeltype II --protocol runANSingles -H --model XM13nacncoop --inputpattern VCN_c10 -r 5 --sgcmodel cochlea -S MS  -f 16000. \n",
    "\"\"\"\n",
    "%matplotlib qt\n",
    "import matplotlib\n",
    "matplotlib.use('Qt4Agg')\n",
    "import pickle\n",
    "import numpy as np\n",
    "from cnmodel.util import sound\n",
    "import matplotlib.pyplot as mpl\n",
    "from pathlib import Path\n",
    "import pylibrary.PlotHelpers as PH\n",
    "\n",
    "nreps = 5\n",
    "# fnb = 'VCN_Cells/VCN_c09/Simulations/AN/AN_Result_VCN_c09_inp=self'\n",
    "# fnb + '_XM13nacncoop_II_soma=1.489_dend=1.236_Syn000_multisite_001_tonepip_030dB_16000.0_HS.p'\n",
    "fnb = 'VCN_Cells/VCN_c09/Simulations/AN/AN_Result_VCN_c09_inp=VCN_c10'\n",
    "fnb += '_XM13nacncoop_II_soma=1.489_dend=1.236_Syn000_multisite_001_tonepip_030dB_16000.0_HS.p'\n",
    "\n",
    "fnsyn = Path(fnb[:fnb.find('_Syn000') + 4])\n",
    "fns = fnsyn.parent.glob(fnsyn.name+'*.p')\n",
    "fnsl0 = sorted(list(fns))\n",
    "fnsl = []\n",
    "for i in range(len(fnsl0)):\n",
    "    if str(fnsl0[i]).find(f'_{nreps:03d}_tonepip') > 0 and str(fnsl0[i]).find(f'_16000.0') > 0:\n",
    "        fnsl.append(fnsl0[i])\n",
    "nax = len(fnsl)\n",
    "for f in fnsl:\n",
    "    print(str(f.name))\n",
    "\n",
    "def get_one(fn):\n",
    "    d = pickle.load(open(fn, 'rb'))\n",
    "#     print(d.keys())\n",
    "#     print('NTrials: ', len(d['trials']))\n",
    "#     print(d['Params'].keys())\n",
    "    return d\n"
   ]
  },
  {
   "cell_type": "code",
   "execution_count": 12,
   "metadata": {},
   "outputs": [],
   "source": [
    "def make_sound(stimInfo):\n",
    "    if isinstance(stimInfo['pip_start'], list):\n",
    "        pips = stimInfo['pip_start']\n",
    "    else:\n",
    "        pips = [stimInfo['pip_start']]\n",
    "    if stimInfo['soundtype'] == 'tonepip':\n",
    "        stim = sound.TonePip(rate=stimInfo['Fs'], duration=stimInfo['run_duration'],\n",
    "                          f0=stimInfo['F0'], dbspl=stimInfo['dB'],\n",
    "                          ramp_duration=stimInfo['RF'], pip_duration=stimInfo['pip_duration'],\n",
    "                          pip_start=pips)\n",
    "    elif stimInfo['soundtype'] == 'SAM':\n",
    "        stim = sound.SAMTone(rate=stimInfo['Fs'], duration=stimInfo['run_duration'],\n",
    "                          f0=stimInfo['F0'], dbspl=stimInfo['dB'],\n",
    "                          ramp_duration=stimInfo['RF'], \n",
    "                          fmod=stimInfo['fmod'], dmod=stimInfo['dmod'],\n",
    "                          pip_duration=stimInfo['pip_duration'],\n",
    "                          pip_start=pips)\n",
    "    else:\n",
    "        raise ValueError('StimInfo sound type %s not implemented' % stimInfo['soundtype'])\n",
    "\n",
    "    stimWaveform = stim.generate()\n",
    "    stimTimebase = stim.time\n",
    "    return(stimTimebase, stimWaveform)"
   ]
  },
  {
   "cell_type": "code",
   "execution_count": 13,
   "metadata": {},
   "outputs": [],
   "source": [
    "f, ax = mpl.subplots(nax+1, figsize=(6,10))\n",
    "# f.figsize=((6,10))\n",
    "f.suptitle('VCN c09 with VCN c10 inputs')\n",
    "\n",
    "\n",
    "for i in range(nax):\n",
    "    if i < nax:\n",
    "        d = get_one(fnsl[i])\n",
    "        if d is None:\n",
    "            continue\n",
    "    \n",
    "        for j, t in enumerate(d['trials']['somaVoltage'].keys()):\n",
    "            ax[i].plot(d['trials']['time'], d['trials']['somaVoltage'][j], linewidth=0.5)\n",
    "            ax[i].set_ylim([-65., 0.])\n",
    "            PH.nice_plot(ax[i])\n",
    "            if i == nax-1:\n",
    "                PH.calbar(ax[i], [0., -40., 25, 10], unitNames={'x': 'ms', 'y': 'mV'})\n",
    "            else:\n",
    "                PH.noaxes(ax[i])\n",
    "stb, snd = make_sound(d['trials']['stimInfo'])\n",
    "ax[nax].plot(stb, snd, 'b', linewidth=0.5)\n",
    "PH.noaxes(ax[nax])\n",
    "        \n",
    "#mpl.show()\n",
    "mpl.show()                    "
   ]
  }
 ],
 "metadata": {
  "kernelspec": {
   "display_name": "Python 3",
   "language": "python",
   "name": "python3"
  },
  "language_info": {
   "codemirror_mode": {
    "name": "ipython",
    "version": 3
   },
   "file_extension": ".py",
   "mimetype": "text/x-python",
   "name": "python",
   "nbconvert_exporter": "python",
   "pygments_lexer": "ipython3",
   "version": "3.6.5"
  }
 },
 "nbformat": 4,
 "nbformat_minor": 2
}
