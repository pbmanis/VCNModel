{
 "cells": [
  {
   "cell_type": "code",
   "execution_count": 10,
   "metadata": {},
   "outputs": [
    {
     "name": "stdout",
     "output_type": "stream",
     "text": [
      "           Cell ID               ASA  nsyn(calculated)             delay           SRgroup            delay2        axonlength     branch length           syntype      postlocation\n"
     ]
    }
   ],
   "source": [
    "\"\"\"\n",
    "python model_run.py VCN_c09 --type Bushy --modeltype II --protocol runANSingles -H --model XM13nacncoop  -r 5 --sgcmodel cochlea -S MS  -f 16000. --soma-autoinflate --dendrite-autoinflate --noparallel\n",
    "# python model_run.py VCN_c09 --type Bushy --modeltype II --protocol runANSingles -H --model XM13nacncoop --inputpattern VCN_c10 -r 5 --sgcmodel cochlea -S MS  -f 16000. \n",
    "\"\"\"\n",
    "%matplotlib qt\n",
    "import matplotlib\n",
    "matplotlib.use('Qt5Agg')\n",
    "import pickle\n",
    "import numpy as np\n",
    "from cnmodel.util import sound\n",
    "import matplotlib.pyplot as mpl\n",
    "from pathlib import Path\n",
    "import pylibrary.plotting.plothelpers as PH\n",
    "from vcnmodel import cell_config\n",
    "\n",
    "freq = 16000.\n",
    "db = 30\n",
    "SR = 'MS'\n",
    "nreps = 1\n",
    "\n",
    "cconfig = cell_config.CellConfig()\n",
    "dendscf = {'VCN_c09': 1.236, 'VCN_c11': 0.980, 'VCN_c17': 1.119, 'VCN_c18': 1.162}\n",
    "def get_sims(cell, inp):\n",
    "    \n",
    "    scf = cconfig.get_soma_ratio(cell)\n",
    "    # fnb = 'VCN_Cells/VCN_c09/Simulations/AN/AN_Result_VCN_c09_inp=self'\n",
    "    # fnb + '_XM13nacncoop_II_soma=1.489_dend=1.236_Syn000_multisite_001_tonepip_030dB_16000.0_HS.p'\n",
    "    basedir = '/Users/pbmanis/Desktop/Python/VCNModel'\n",
    "    fnb = f'VCN_Cells/{cell:s}/Simulations/AN/AN_Result_{cell:s}_inp={inp:s}'  # or input = 'VCN_c02' etc\n",
    "    fnb += f'_XM13_nacncoop_II_soma={scf:.3f}_dend={dendscf[cell]:.3f}_ASA={scf:.3f}_Syn000_multisite_001_tonepip_{db:03d}dB_{freq:.1f}_{SR:2s}.p'\n",
    "    print('fnb: ', fnb)\n",
    "    fnsyn = Path(basedir, fnb[:fnb.find('_Syn000') + 4])\n",
    "    fns = fnsyn.parent.glob(str(fnsyn.name)+'*.p')\n",
    "    # print('fns: ', list(fns))\n",
    "    fnsl0 = sorted(list(fns))\n",
    "    fnsl = []\n",
    "    for i in range(len(fnsl0)):\n",
    "        if str(fnsl0[i]).find(f'_{nreps:03d}_tonepip') > 0 and str(fnsl0[i]).find(f'_{freq:.1f}') > 0:\n",
    "            fnsl.append(fnsl0[i])\n",
    "    nax = len(fnsl)\n",
    "    for f in fnsl:\n",
    "        print('name: ', str(f.name))\n",
    "    return fnsl\n",
    "\n",
    "def get_one(fn):\n",
    "    d = pickle.load(open(fn, 'rb'))\n",
    "#     print(d.keys())\n",
    "#     print('NTrials: ', len(d['trials']))\n",
    "#     print(d['Params'].keys())\n",
    "    return d\n"
   ]
  },
  {
   "cell_type": "code",
   "execution_count": 6,
   "metadata": {},
   "outputs": [],
   "source": [
    "def make_sound(stimInfo):\n",
    "    if isinstance(stimInfo['pip_start'], list):\n",
    "        pips = stimInfo['pip_start']\n",
    "    else:\n",
    "        pips = [stimInfo['pip_start']]\n",
    "    if stimInfo['soundtype'] == 'tonepip':\n",
    "        stim = sound.TonePip(rate=stimInfo['Fs'], duration=stimInfo['run_duration'],\n",
    "                          f0=stimInfo['F0'], dbspl=stimInfo['dB'],\n",
    "                          ramp_duration=stimInfo['RF'], pip_duration=stimInfo['pip_duration'],\n",
    "                          pip_start=pips)\n",
    "    elif stimInfo['soundtype'] == 'SAM':\n",
    "        stim = sound.SAMTone(rate=stimInfo['Fs'], duration=stimInfo['run_duration'],\n",
    "                          f0=stimInfo['F0'], dbspl=stimInfo['dB'],\n",
    "                          ramp_duration=stimInfo['RF'], \n",
    "                          fmod=stimInfo['fmod'], dmod=stimInfo['dmod'],\n",
    "                          pip_duration=stimInfo['pip_duration'],\n",
    "                          pip_start=pips)\n",
    "    else:\n",
    "        raise ValueError('StimInfo sound type %s not implemented' % stimInfo['soundtype'])\n",
    "\n",
    "    stimWaveform = stim.generate()\n",
    "    stimTimebase = stim.time\n",
    "    return(stimTimebase, stimWaveform)"
   ]
  },
  {
   "cell_type": "code",
   "execution_count": 7,
   "metadata": {},
   "outputs": [],
   "source": [
    "def plot_sim(cell, inp):\n",
    "    if inp != 'self':\n",
    "        r, ct = cconfig.makeDict(inp)\n",
    "    else:\n",
    "        r, ct = cconfig.makeDict(cell)\n",
    "\n",
    "    nax = len(r)\n",
    "    \n",
    "    P = PH.regular_grid(nax+1, 1, order='columnsfirst', figsize=(6., 10.), showgrid=False,\n",
    "                    verticalspacing=0.01, horizontalspacing=0.1,\n",
    "                    margins={'leftmargin': 0.07, 'rightmargin': 0.05, 'topmargin': 0.08, 'bottommargin': 0.1},\n",
    "                    labelposition=(-0.15, 1.05), parent_figure=None, panel_labels=None)\n",
    "    # f.figsize=((6,10))\n",
    "    P.figure_handle.suptitle(f'{cell:s} with {inp:s} inputs')\n",
    "\n",
    "\n",
    "    for i in range(nax):\n",
    "        if i < nax:\n",
    "            d = get_one(fnsl[i])\n",
    "            if d is None:\n",
    "                continue\n",
    "\n",
    "            for j, t in enumerate(d['trials']['somaVoltage'].keys()):\n",
    "                P.axarr[i, 0].plot(d['trials']['time'], d['trials']['somaVoltage'][j], linewidth=0.5)\n",
    "                P.axarr[i, 0].set_ylim([-70., 0.])\n",
    "                PH.nice_plot(P.axarr[i, 0])\n",
    "                if i == nax-1:\n",
    "                    PH.calbar(P.axarr[i, 0], [0., -40., 25, 10], unitNames={'x': 'ms', 'y': 'mV'})\n",
    "                else:\n",
    "                    PH.noaxes(P.axarr[i, 0])\n",
    "            P.axarr[i, 0].text(x=0.9, y=0.5, s=f\"{r[i]['asa']:.1f}\", transform=P.axarr[i, 0].transAxes)\n",
    "    stb, snd = make_sound(d['trials']['stimInfo'])\n",
    "    P.axarr[nax, 0].plot(stb, snd, 'b', linewidth=0.5)\n",
    "    PH.noaxes(P.axarr[nax, 0])\n",
    "\n",
    "    #mpl.show()\n",
    "    mpl.show()                    "
   ]
  },
  {
   "cell_type": "code",
   "execution_count": 8,
   "metadata": {},
   "outputs": [
    {
     "name": "stdout",
     "output_type": "stream",
     "text": [
      "['VCN_c02', 'VCN_c05', 'VCN_c10', 'VCN_c13']\n",
      "VCN_c09 VCN_c02\n",
      "Cell: 09: Soma mesh area: 1340.36  Soma hoc area: 885.30        Soma Inflation ratio: 1.514\n"
     ]
    },
    {
     "ename": "TypeError",
     "evalue": "unsupported format string passed to dict.__format__",
     "output_type": "error",
     "traceback": [
      "\u001b[0;31m---------------------------------------------------------------------------\u001b[0m",
      "\u001b[0;31mTypeError\u001b[0m                                 Traceback (most recent call last)",
      "\u001b[0;32m<ipython-input-8-c7df44cfe54c>\u001b[0m in \u001b[0;36m<module>\u001b[0;34m()\u001b[0m\n\u001b[1;32m      4\u001b[0m \u001b[0;32mfor\u001b[0m \u001b[0mi\u001b[0m\u001b[0;34m,\u001b[0m \u001b[0mcell\u001b[0m \u001b[0;32min\u001b[0m \u001b[0menumerate\u001b[0m\u001b[0;34m(\u001b[0m\u001b[0mcells\u001b[0m\u001b[0;34m)\u001b[0m\u001b[0;34m:\u001b[0m\u001b[0;34m\u001b[0m\u001b[0m\n\u001b[1;32m      5\u001b[0m     \u001b[0mprint\u001b[0m\u001b[0;34m(\u001b[0m\u001b[0mcell\u001b[0m\u001b[0;34m,\u001b[0m \u001b[0minps\u001b[0m\u001b[0;34m[\u001b[0m\u001b[0mi\u001b[0m\u001b[0;34m]\u001b[0m\u001b[0;34m)\u001b[0m\u001b[0;34m\u001b[0m\u001b[0m\n\u001b[0;32m----> 6\u001b[0;31m     \u001b[0mfnsl\u001b[0m \u001b[0;34m=\u001b[0m \u001b[0mget_sims\u001b[0m\u001b[0;34m(\u001b[0m\u001b[0mcell\u001b[0m\u001b[0;34m,\u001b[0m \u001b[0minps\u001b[0m\u001b[0;34m[\u001b[0m\u001b[0mi\u001b[0m\u001b[0;34m]\u001b[0m\u001b[0;34m)\u001b[0m\u001b[0;34m\u001b[0m\u001b[0m\n\u001b[0m\u001b[1;32m      7\u001b[0m     \u001b[0mplot_sim\u001b[0m\u001b[0;34m(\u001b[0m\u001b[0mcell\u001b[0m\u001b[0;34m,\u001b[0m \u001b[0minps\u001b[0m\u001b[0;34m[\u001b[0m\u001b[0mi\u001b[0m\u001b[0;34m]\u001b[0m\u001b[0;34m)\u001b[0m\u001b[0;34m\u001b[0m\u001b[0m\n",
      "\u001b[0;32m<ipython-input-5-45136c80c79e>\u001b[0m in \u001b[0;36mget_sims\u001b[0;34m(cell, inp)\u001b[0m\n\u001b[1;32m     28\u001b[0m     \u001b[0mbasedir\u001b[0m \u001b[0;34m=\u001b[0m \u001b[0;34m'/Users/pbmanis/Desktop/Python/VCNModel'\u001b[0m\u001b[0;34m\u001b[0m\u001b[0m\n\u001b[1;32m     29\u001b[0m     \u001b[0mfnb\u001b[0m \u001b[0;34m=\u001b[0m \u001b[0;34mf'VCN_Cells/{cell:s}/Simulations/AN/AN_Result_{cell:s}_inp={inp:s}'\u001b[0m  \u001b[0;31m# or input = 'VCN_c02' etc\u001b[0m\u001b[0;34m\u001b[0m\u001b[0m\n\u001b[0;32m---> 30\u001b[0;31m     \u001b[0mfnb\u001b[0m \u001b[0;34m+=\u001b[0m \u001b[0;34mf'_XM13_nacncoop_II_soma={scf:.3f}_dend={dendscf:.3f}_ASA={scf:.3f}_Syn000_multisite_001_tonepip_{db:03d}dB_{freq:.1f}_{SR:2s}.p'\u001b[0m\u001b[0;34m\u001b[0m\u001b[0m\n\u001b[0m\u001b[1;32m     31\u001b[0m     \u001b[0mprint\u001b[0m\u001b[0;34m(\u001b[0m\u001b[0;34m'fnb: '\u001b[0m\u001b[0;34m,\u001b[0m \u001b[0mfnb\u001b[0m\u001b[0;34m)\u001b[0m\u001b[0;34m\u001b[0m\u001b[0m\n\u001b[1;32m     32\u001b[0m     \u001b[0mfnsyn\u001b[0m \u001b[0;34m=\u001b[0m \u001b[0mPath\u001b[0m\u001b[0;34m(\u001b[0m\u001b[0mbasedir\u001b[0m\u001b[0;34m,\u001b[0m \u001b[0mfnb\u001b[0m\u001b[0;34m[\u001b[0m\u001b[0;34m:\u001b[0m\u001b[0mfnb\u001b[0m\u001b[0;34m.\u001b[0m\u001b[0mfind\u001b[0m\u001b[0;34m(\u001b[0m\u001b[0;34m'_Syn000'\u001b[0m\u001b[0;34m)\u001b[0m \u001b[0;34m+\u001b[0m \u001b[0;36m4\u001b[0m\u001b[0;34m]\u001b[0m\u001b[0;34m)\u001b[0m\u001b[0;34m\u001b[0m\u001b[0m\n",
      "\u001b[0;31mTypeError\u001b[0m: unsupported format string passed to dict.__format__"
     ]
    }
   ],
   "source": [
    "inps = ['VCN_c02', 'VCN_c05', 'VCN_c10', 'VCN_c13'] # ['self']*4 # 'VCN_c13'\n",
    "cells = ['VCN_c09']*4 #,['VCN_c09'm 'VCN_c11', 'VCN_c17', 'VCN_c18']\n",
    "print(inps)\n",
    "for i, cell in enumerate(cells):\n",
    "    print(cell, inps[i])\n",
    "    fnsl = get_sims(cell, inps[i])\n",
    "    plot_sim(cell, inps[i])\n"
   ]
  },
  {
   "cell_type": "code",
   "execution_count": 11,
   "metadata": {},
   "outputs": [
    {
     "name": "stdout",
     "output_type": "stream",
     "text": [
      "['self', 'self', 'self', 'self']\n",
      "VCN_c09 self\n",
      "Cell: 09: Soma mesh area: 1340.36  Soma hoc area: 885.30        Soma Inflation ratio: 1.514\n",
      "fnb:  VCN_Cells/VCN_c09/Simulations/AN/AN_Result_VCN_c09_inp=self_XM13_nacncoop_II_soma=1.514_dend=1.236_ASA=1.514_Syn000_multisite_001_tonepip_030dB_16000.0_MS.p\n",
      "name:  AN_Result_VCN_c09_inp=self_XM13_nacncoop_II_soma=1.514_dend=1.236_ASA=1.514_Syn000_multisite_001_tonepip_030dB_16000.0_MS.p\n",
      "name:  AN_Result_VCN_c09_inp=self_XM13_nacncoop_II_soma=1.514_dend=1.236_ASA=1.514_Syn001_multisite_001_tonepip_030dB_16000.0_MS.p\n",
      "name:  AN_Result_VCN_c09_inp=self_XM13_nacncoop_II_soma=1.514_dend=1.236_ASA=1.514_Syn002_multisite_001_tonepip_030dB_16000.0_MS.p\n",
      "name:  AN_Result_VCN_c09_inp=self_XM13_nacncoop_II_soma=1.514_dend=1.236_ASA=1.514_Syn003_multisite_001_tonepip_030dB_16000.0_MS.p\n",
      "name:  AN_Result_VCN_c09_inp=self_XM13_nacncoop_II_soma=1.514_dend=1.236_ASA=1.514_Syn004_multisite_001_tonepip_030dB_16000.0_MS.p\n",
      "name:  AN_Result_VCN_c09_inp=self_XM13_nacncoop_II_soma=1.514_dend=1.236_ASA=1.514_Syn005_multisite_001_tonepip_030dB_16000.0_MS.p\n",
      "name:  AN_Result_VCN_c09_inp=self_XM13_nacncoop_II_soma=1.514_dend=1.236_ASA=1.514_Syn006_multisite_001_tonepip_030dB_16000.0_MS.p\n",
      "name:  AN_Result_VCN_c09_inp=self_XM13_nacncoop_II_soma=1.514_dend=1.236_ASA=1.514_Syn007_multisite_001_tonepip_030dB_16000.0_MS.p\n",
      "VCN_c11 self\n",
      "Cell: 11: Soma mesh area: 1288.45  Soma hoc area: 883.41        Soma Inflation ratio: 1.458\n",
      "fnb:  VCN_Cells/VCN_c11/Simulations/AN/AN_Result_VCN_c11_inp=self_XM13_nacncoop_II_soma=1.458_dend=0.980_ASA=1.458_Syn000_multisite_001_tonepip_030dB_16000.0_MS.p\n",
      "name:  AN_Result_VCN_c11_inp=self_XM13_nacncoop_II_soma=1.458_dend=0.980_ASA=1.458_Syn000_multisite_001_tonepip_030dB_16000.0_MS.p\n",
      "name:  AN_Result_VCN_c11_inp=self_XM13_nacncoop_II_soma=1.458_dend=0.980_ASA=1.458_Syn001_multisite_001_tonepip_030dB_16000.0_MS.p\n",
      "name:  AN_Result_VCN_c11_inp=self_XM13_nacncoop_II_soma=1.458_dend=0.980_ASA=1.458_Syn002_multisite_001_tonepip_030dB_16000.0_MS.p\n",
      "name:  AN_Result_VCN_c11_inp=self_XM13_nacncoop_II_soma=1.458_dend=0.980_ASA=1.458_Syn003_multisite_001_tonepip_030dB_16000.0_MS.p\n",
      "name:  AN_Result_VCN_c11_inp=self_XM13_nacncoop_II_soma=1.458_dend=0.980_ASA=1.458_Syn004_multisite_001_tonepip_030dB_16000.0_MS.p\n",
      "name:  AN_Result_VCN_c11_inp=self_XM13_nacncoop_II_soma=1.458_dend=0.980_ASA=1.458_Syn005_multisite_001_tonepip_030dB_16000.0_MS.p\n",
      "name:  AN_Result_VCN_c11_inp=self_XM13_nacncoop_II_soma=1.458_dend=0.980_ASA=1.458_Syn006_multisite_001_tonepip_030dB_16000.0_MS.p\n",
      "VCN_c17 self\n",
      "Cell: 17: Soma mesh area: 1357.62  Soma hoc area: 1009.83        Soma Inflation ratio: 1.344\n",
      "fnb:  VCN_Cells/VCN_c17/Simulations/AN/AN_Result_VCN_c17_inp=self_XM13_nacncoop_II_soma=1.344_dend=1.119_ASA=1.344_Syn000_multisite_001_tonepip_030dB_16000.0_MS.p\n",
      "name:  AN_Result_VCN_c17_inp=self_XM13_nacncoop_II_soma=1.344_dend=1.119_ASA=1.344_Syn000_multisite_001_tonepip_030dB_16000.0_MS.p\n",
      "name:  AN_Result_VCN_c17_inp=self_XM13_nacncoop_II_soma=1.344_dend=1.119_ASA=1.344_Syn001_multisite_001_tonepip_030dB_16000.0_MS.p\n",
      "name:  AN_Result_VCN_c17_inp=self_XM13_nacncoop_II_soma=1.344_dend=1.119_ASA=1.344_Syn002_multisite_001_tonepip_030dB_16000.0_MS.p\n",
      "name:  AN_Result_VCN_c17_inp=self_XM13_nacncoop_II_soma=1.344_dend=1.119_ASA=1.344_Syn003_multisite_001_tonepip_030dB_16000.0_MS.p\n",
      "name:  AN_Result_VCN_c17_inp=self_XM13_nacncoop_II_soma=1.344_dend=1.119_ASA=1.344_Syn004_multisite_001_tonepip_030dB_16000.0_MS.p\n",
      "name:  AN_Result_VCN_c17_inp=self_XM13_nacncoop_II_soma=1.344_dend=1.119_ASA=1.344_Syn005_multisite_001_tonepip_030dB_16000.0_MS.p\n",
      "name:  AN_Result_VCN_c17_inp=self_XM13_nacncoop_II_soma=1.344_dend=1.119_ASA=1.344_Syn006_multisite_001_tonepip_030dB_16000.0_MS.p\n",
      "VCN_c18 self\n",
      "Cell: 18: Soma mesh area: 1292.47  Soma hoc area: 860.55        Soma Inflation ratio: 1.502\n",
      "fnb:  VCN_Cells/VCN_c18/Simulations/AN/AN_Result_VCN_c18_inp=self_XM13_nacncoop_II_soma=1.502_dend=1.162_ASA=1.502_Syn000_multisite_001_tonepip_030dB_16000.0_MS.p\n",
      "name:  AN_Result_VCN_c18_inp=self_XM13_nacncoop_II_soma=1.502_dend=1.162_ASA=1.502_Syn000_multisite_001_tonepip_030dB_16000.0_MS.p\n",
      "name:  AN_Result_VCN_c18_inp=self_XM13_nacncoop_II_soma=1.502_dend=1.162_ASA=1.502_Syn001_multisite_001_tonepip_030dB_16000.0_MS.p\n",
      "name:  AN_Result_VCN_c18_inp=self_XM13_nacncoop_II_soma=1.502_dend=1.162_ASA=1.502_Syn002_multisite_001_tonepip_030dB_16000.0_MS.p\n",
      "name:  AN_Result_VCN_c18_inp=self_XM13_nacncoop_II_soma=1.502_dend=1.162_ASA=1.502_Syn003_multisite_001_tonepip_030dB_16000.0_MS.p\n",
      "name:  AN_Result_VCN_c18_inp=self_XM13_nacncoop_II_soma=1.502_dend=1.162_ASA=1.502_Syn004_multisite_001_tonepip_030dB_16000.0_MS.p\n",
      "name:  AN_Result_VCN_c18_inp=self_XM13_nacncoop_II_soma=1.502_dend=1.162_ASA=1.502_Syn005_multisite_001_tonepip_030dB_16000.0_MS.p\n",
      "name:  AN_Result_VCN_c18_inp=self_XM13_nacncoop_II_soma=1.502_dend=1.162_ASA=1.502_Syn006_multisite_001_tonepip_030dB_16000.0_MS.p\n",
      "name:  AN_Result_VCN_c18_inp=self_XM13_nacncoop_II_soma=1.502_dend=1.162_ASA=1.502_Syn007_multisite_001_tonepip_030dB_16000.0_MS.p\n"
     ]
    }
   ],
   "source": [
    "inps = ['self']*4 \n",
    "cells = ['VCN_c09', 'VCN_c11', 'VCN_c17', 'VCN_c18']\n",
    "print(inps)\n",
    "for i, cell in enumerate(cells):\n",
    "    print(cell, inps[i])\n",
    "    fnsl = get_sims(cell, inps[i])\n",
    "    plot_sim(cell, inps[i])"
   ]
  },
  {
   "cell_type": "code",
   "execution_count": null,
   "metadata": {},
   "outputs": [],
   "source": []
  },
  {
   "cell_type": "code",
   "execution_count": null,
   "metadata": {},
   "outputs": [],
   "source": []
  }
 ],
 "metadata": {
  "kernelspec": {
   "display_name": "Python 3",
   "language": "python",
   "name": "python3"
  },
  "language_info": {
   "codemirror_mode": {
    "name": "ipython",
    "version": 3
   },
   "file_extension": ".py",
   "mimetype": "text/x-python",
   "name": "python",
   "nbconvert_exporter": "python",
   "pygments_lexer": "ipython3",
   "version": "3.6.5"
  }
 },
 "nbformat": 4,
 "nbformat_minor": 4
}
