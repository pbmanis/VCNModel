{
 "cells": [
  {
   "cell_type": "code",
   "execution_count": 2,
   "metadata": {},
   "outputs": [
    {
     "name": "stdout",
     "output_type": "stream",
     "text": [
      "True\n"
     ]
    }
   ],
   "source": [
    "%matplotlib qt\n",
    "import matplotlib\n",
    "matplotlib.use('Qt5Agg')\n",
    "import matplotlib.pyplot as mpl\n",
    "from pathlib import Path\n",
    "import pandas as pd\n",
    "fn = Path('../VCN_Cells/VCN_c06/Simulations/IV/VCN_c06_pulse_XM13_nacncoop_II_monitor.p')\n",
    "fn = Path('../VCN_Cells/VCN_c06/Simulations/IV/VCN_c06_pulse_XM13_nacncoop_II_monitor_noDendNa_Full.p')\n",
    "print(fn.is_file())\n",
    "\n",
    "d = pd.read_pickle(fn)\n"
   ]
  },
  {
   "cell_type": "code",
   "execution_count": 3,
   "metadata": {},
   "outputs": [],
   "source": [
    "\"\"\"\n",
    "Plot all locations for one stimulus\n",
    "\"\"\"\n",
    "f, ax = mpl.subplots(1,1)\n",
    "spines_to_remove = ['top', 'right']\n",
    "ax = [ax]\n",
    "for a in ax:\n",
    "    for spine in spines_to_remove:\n",
    "        a.spines[spine].set_visible(False)\n",
    "for i, R in enumerate(d['Results']):\n",
    "    if i < len(d['Results'])-1:\n",
    "        continue\n",
    "#     print(R)\n",
    "    inj = list(R.keys())[0]\n",
    "    r = R[inj]\n",
    "    for v in r['vec']:\n",
    "        ax[0].plot(r['monitor']['time'], r['vec'][v])\n",
    "mpl.show()"
   ]
  },
  {
   "cell_type": "code",
   "execution_count": 4,
   "metadata": {},
   "outputs": [
    {
     "name": "stdout",
     "output_type": "stream",
     "text": [
      "Index(['time', 'sections[0]', 'sections[1]', 'sections[2]', 'sections[3]',\n",
      "       'sections[4]', 'sections[5]', 'sections[6]', 'sections[7]',\n",
      "       'sections[8]',\n",
      "       ...\n",
      "       'sections[265]', 'sections[266]', 'sections[267]', 'sections[268]',\n",
      "       'sections[269]', 'sections[270]', 'sections[271]', 'sections[272]',\n",
      "       'sections[273]', 'sections[274]'],\n",
      "      dtype='object', length=276)\n"
     ]
    },
    {
     "name": "stderr",
     "output_type": "stream",
     "text": [
      "/Users/pbmanis/anaconda/envs/py3mpl3/lib/python3.6/site-packages/pyarrow/pandas_compat.py:114: FutureWarning: A future version of pandas will default to `skipna=True`. To silence this warning, pass `skipna=True|False` explicitly.\n",
      "  result = infer_dtype(pandas_collection)\n"
     ]
    }
   ],
   "source": [
    "\"\"\"\n",
    "Save data to csv file with time on left column and sections ordered to the right\n",
    "we do this by building the csv as a pandas data frame and filling it\n",
    "\"\"\"\n",
    "for i, R in enumerate(d['Results']):\n",
    "    if i < len(d['Results'])-1:\n",
    "        continue\n",
    "#     print(R)\n",
    "    inj = list(R.keys())[0]\n",
    "    r = R[inj]\n",
    "    secnos = len(r['vec'])\n",
    "    secs = ['time']\n",
    "    for s in range(secnos):\n",
    "        secs.append(f'sections[{s:d}]')\n",
    "    df = pd.DataFrame(columns=secs)\n",
    "    print(df.columns)\n",
    "    df['time'] = r['monitor']['time']\n",
    "    for v in secs[1:]:\n",
    "        df[v] = r['vec'][v]\n",
    "\n",
    "df.to_csv(Path('..', fn.name).with_suffix('.csv'))\n",
    "df.to_json(Path('..', fn.name).with_suffix('.json'))\n",
    "df.to_hdf(Path('..', fn.name).with_suffix('.hdf'), key='Voltage')\n",
    "df.to_parquet(Path('..', fn.name).with_suffix('.parquet'))\n",
    "\n"
   ]
  },
  {
   "cell_type": "code",
   "execution_count": null,
   "metadata": {},
   "outputs": [],
   "source": []
  }
 ],
 "metadata": {
  "kernelspec": {
   "display_name": "Python 3",
   "language": "python",
   "name": "python3"
  },
  "language_info": {
   "codemirror_mode": {
    "name": "ipython",
    "version": 3
   },
   "file_extension": ".py",
   "mimetype": "text/x-python",
   "name": "python",
   "nbconvert_exporter": "python",
   "pygments_lexer": "ipython3",
   "version": "3.6.5"
  }
 },
 "nbformat": 4,
 "nbformat_minor": 2
}
