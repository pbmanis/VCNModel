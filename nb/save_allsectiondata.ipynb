{
 "cells": [
  {
   "cell_type": "code",
   "execution_count": 6,
   "metadata": {},
   "outputs": [
    {
     "name": "stdout",
     "output_type": "stream",
     "text": [
      "True\n"
     ]
    }
   ],
   "source": [
    "%matplotlib qt\n",
    "import matplotlib\n",
    "matplotlib.use('Qt5Agg')\n",
    "import matplotlib.pyplot as mpl\n",
    "from pathlib import Path\n",
    "import pandas as pd\n",
    "import pynwb as NWB\n",
    "\n",
    "fn = Path('VCN_c06/Simulations/IV/VCN_c06_pulse_XM13_nacncoop_II_monitor.p')\n",
    "fn = Path('VCN_c06/Simulations/IV/VCN_c06_pulse_XM13_nacncoop_II_monitor_noDendNa_Full.p')\n",
    "fn = Path('VCN_c11/Simulations/AN/AN_Result_VCN_c11_inp=self_XM13_nacncoop_II_soma=1.203_dend=1.510_ASA=1.203_delays_multisite_001_tonepip_050dB_4000.0_HS.p.dat')\n",
    "basepath = Path('/Users/pbmanis/Desktop/Python/VCN-SBEM-Data/VCN_Cells')\n",
    "fnb = Path(basepath, fn)\n",
    "print(fnb.is_file())\n",
    "\n",
    "d = pd.read_pickle(fnb)\n"
   ]
  },
  {
   "cell_type": "code",
   "execution_count": 17,
   "metadata": {},
   "outputs": [
    {
     "name": "stdout",
     "output_type": "stream",
     "text": [
      "dict_keys(['stimInfo', 'spikeTimes', 'inputSpikeTimes', 'time', 'somaVoltage', 'dendriteVoltage', 'allDendriteVoltages', 'stimWaveform', 'stimTimebase'])\n"
     ]
    }
   ],
   "source": [
    "print(d['trials'][0].keys())"
   ]
  },
  {
   "cell_type": "code",
   "execution_count": 7,
   "metadata": {},
   "outputs": [
    {
     "ename": "KeyError",
     "evalue": "'Results'",
     "output_type": "error",
     "traceback": [
      "\u001b[0;31m---------------------------------------------------------------------------\u001b[0m",
      "\u001b[0;31mKeyError\u001b[0m                                  Traceback (most recent call last)",
      "\u001b[0;32m<ipython-input-7-f4e89a6e4f96>\u001b[0m in \u001b[0;36m<module>\u001b[0;34m\u001b[0m\n\u001b[1;32m      8\u001b[0m     \u001b[0;32mfor\u001b[0m \u001b[0mspine\u001b[0m \u001b[0;32min\u001b[0m \u001b[0mspines_to_remove\u001b[0m\u001b[0;34m:\u001b[0m\u001b[0;34m\u001b[0m\u001b[0;34m\u001b[0m\u001b[0m\n\u001b[1;32m      9\u001b[0m         \u001b[0ma\u001b[0m\u001b[0;34m.\u001b[0m\u001b[0mspines\u001b[0m\u001b[0;34m[\u001b[0m\u001b[0mspine\u001b[0m\u001b[0;34m]\u001b[0m\u001b[0;34m.\u001b[0m\u001b[0mset_visible\u001b[0m\u001b[0;34m(\u001b[0m\u001b[0;32mFalse\u001b[0m\u001b[0;34m)\u001b[0m\u001b[0;34m\u001b[0m\u001b[0;34m\u001b[0m\u001b[0m\n\u001b[0;32m---> 10\u001b[0;31m \u001b[0;32mfor\u001b[0m \u001b[0mi\u001b[0m\u001b[0;34m,\u001b[0m \u001b[0mR\u001b[0m \u001b[0;32min\u001b[0m \u001b[0menumerate\u001b[0m\u001b[0;34m(\u001b[0m\u001b[0md\u001b[0m\u001b[0;34m[\u001b[0m\u001b[0;34m'Results'\u001b[0m\u001b[0;34m]\u001b[0m\u001b[0;34m)\u001b[0m\u001b[0;34m:\u001b[0m\u001b[0;34m\u001b[0m\u001b[0;34m\u001b[0m\u001b[0m\n\u001b[0m\u001b[1;32m     11\u001b[0m     \u001b[0;32mif\u001b[0m \u001b[0mi\u001b[0m \u001b[0;34m<\u001b[0m \u001b[0mlen\u001b[0m\u001b[0;34m(\u001b[0m\u001b[0md\u001b[0m\u001b[0;34m[\u001b[0m\u001b[0;34m'Results'\u001b[0m\u001b[0;34m]\u001b[0m\u001b[0;34m)\u001b[0m\u001b[0;34m-\u001b[0m\u001b[0;36m1\u001b[0m\u001b[0;34m:\u001b[0m\u001b[0;34m\u001b[0m\u001b[0;34m\u001b[0m\u001b[0m\n\u001b[1;32m     12\u001b[0m         \u001b[0;32mcontinue\u001b[0m\u001b[0;34m\u001b[0m\u001b[0;34m\u001b[0m\u001b[0m\n",
      "\u001b[0;31mKeyError\u001b[0m: 'Results'"
     ]
    }
   ],
   "source": [
    "\"\"\"\n",
    "Plot all locations for one stimulus (IV data)\n",
    "\"\"\"\n",
    "f, ax = mpl.subplots(1,1)\n",
    "spines_to_remove = ['top', 'right']\n",
    "ax = [ax]\n",
    "for a in ax:\n",
    "    for spine in spines_to_remove:\n",
    "        a.spines[spine].set_visible(False)\n",
    "for i, R in enumerate(d['Results']):\n",
    "    if i < len(d['Results'])-1:\n",
    "        continue\n",
    "#     print(R)\n",
    "    inj = list(R.keys())[0]\n",
    "    r = R[inj]\n",
    "    for v in r['vec']:\n",
    "        ax[0].plot(r['monitor']['time'], r['vec'][v])\n",
    "mpl.show()"
   ]
  },
  {
   "cell_type": "code",
   "execution_count": 4,
   "metadata": {},
   "outputs": [
    {
     "name": "stdout",
     "output_type": "stream",
     "text": [
      "Index(['time', 'sections[0]', 'sections[1]', 'sections[2]', 'sections[3]',\n",
      "       'sections[4]', 'sections[5]', 'sections[6]', 'sections[7]',\n",
      "       'sections[8]',\n",
      "       ...\n",
      "       'sections[265]', 'sections[266]', 'sections[267]', 'sections[268]',\n",
      "       'sections[269]', 'sections[270]', 'sections[271]', 'sections[272]',\n",
      "       'sections[273]', 'sections[274]'],\n",
      "      dtype='object', length=276)\n"
     ]
    },
    {
     "name": "stderr",
     "output_type": "stream",
     "text": [
      "/Users/pbmanis/anaconda/envs/py3mpl3/lib/python3.6/site-packages/pyarrow/pandas_compat.py:114: FutureWarning: A future version of pandas will default to `skipna=True`. To silence this warning, pass `skipna=True|False` explicitly.\n",
      "  result = infer_dtype(pandas_collection)\n"
     ]
    }
   ],
   "source": [
    "\"\"\"\n",
    "Save IV data to csv file with time on left column and sections ordered to the right\n",
    "we do this by building the csv as a pandas data frame and filling it\n",
    "\"\"\"\n",
    "for i, R in enumerate(d['Results']):\n",
    "    if i < len(d['Results'])-1:\n",
    "        continue\n",
    "#     print(R)\n",
    "    inj = list(R.keys())[0]\n",
    "    r = R[inj]\n",
    "    secnos = len(r['vec'])\n",
    "    secs = ['time']\n",
    "    for s in range(secnos):\n",
    "        secs.append(f'sections[{s:d}]')\n",
    "    df = pd.DataFrame(columns=secs)\n",
    "    print(df.columns)\n",
    "    df['time'] = r['monitor']['time']\n",
    "    for v in secs[1:]:\n",
    "        df[v] = r['vec'][v]\n",
    "\n",
    "df.to_csv(Path('..', fn.name).with_suffix('.csv'))\n",
    "df.to_json(Path('..', fn.name).with_suffix('.json'))\n",
    "df.to_hdf(Path('..', fn.name).with_suffix('.hdf'), key='Voltage')\n",
    "df.to_parquet(Path('..', fn.name).with_suffix('.parquet'))\n",
    "\n"
   ]
  },
  {
   "cell_type": "code",
   "execution_count": 35,
   "metadata": {},
   "outputs": [
    {
     "name": "stdout",
     "output_type": "stream",
     "text": [
      "trial:  0\n"
     ]
    }
   ],
   "source": [
    "\"\"\"\n",
    "Plot all locations for one stimulus (AN data)\n",
    "Each trial contains a dict:\n",
    "dict_keys(['stimInfo', 'spikeTimes', 'inputSpikeTimes', 'time',\n",
    "'somaVoltage', 'dendriteVoltage', 'allDendriteVoltages', \n",
    "'stimWaveform', 'stimTimebase'])\n",
    "\n",
    "\"\"\"\n",
    "f, ax = mpl.subplots(1,1)\n",
    "spines_to_remove = ['top', 'right']\n",
    "ax = [ax]\n",
    "for a in ax:\n",
    "    for spine in spines_to_remove:\n",
    "        a.spines[spine].set_visible(False)\n",
    "for trial in d['trials']:\n",
    "    dx = d['trials'][trial]\n",
    "    print('trial: ', trial)\n",
    "    time = dx['time']\n",
    "    for tx in dx['allDendriteVoltages']:\n",
    "        for v in dx['allDendriteVoltages'][tx]:\n",
    "            ax[0].plot(time, dx['allDendriteVoltages'][tx][v], linewidth=0.25)\n",
    "mpl.show()"
   ]
  },
  {
   "cell_type": "code",
   "execution_count": null,
   "metadata": {},
   "outputs": [],
   "source": []
  },
  {
   "cell_type": "code",
   "execution_count": null,
   "metadata": {},
   "outputs": [],
   "source": [
    "\"\"\"\n",
    "Save AN data to NWB formatted file\n",
    "\"\"\"\n",
    "\n",
    "        subject = NWB.file.Subject(age=0, \n",
    "                description='vcnmodel', genotype='None', sex='None', species='Computer', \n",
    "                subject_id=None, weight='None')\n",
    "\n",
    "    #     print(info)\n",
    "        nwbfile = NWB.NWBFile('LDA Data set', str(datafilename), datetime.datetime.now(tzlocal()),\n",
    "                      experimenter='Manis, Paul',\n",
    "                      lab='Manis Lab',\n",
    "                      institution='UNC Chapel Hill',\n",
    "                      experiment_description='Model Output',\n",
    "                      session_id=f\"{i:d}\",\n",
    "                      notes=f\"Cell Type: Bushy XM13_nacncoop AN\",\n",
    "                      subject=subject)\n",
    "        device = NWB.device.Device('MC700B', parent=None)\n",
    "        nwbfile.add_device(device)\n",
    "        elec = NWB.icephys.IntracellularElectrode(name=\"elec0\",\n",
    "                                       description='KG33 patch as intracellular electrode',\n",
    "                                       device=device)\n",
    "        nwbfile.add_ic_electrode(elec)  # not well documented!\n",
    "\n",
    "        istim = NWB.icephys.CurrentClampStimulusSeries( name=\"Ics\", data=np.array(cmd_wave), unit='A',\n",
    "                starting_time=info['__timestamp__'], rate=sample_rate[0],\n",
    "                electrode=elec, gain=1.0, sweep_number=1)\n",
    "        vdata = NWB.icephys.CurrentClampSeries('Vcs', data=data_array, \n",
    "            unit='V', electrode=elec, gain=1.0, bias_current=0.0, bridge_balance=0., \n",
    "            capacitance_compensation=0., stimulus_description='NA', \n",
    "            resolution=0.0, conversion=1.0, timestamps=None, \n",
    "            starting_time=info['__timestamp__'], rate=sample_rate[0], \n",
    "            comments='no comments', description='no description', \n",
    "            control=None, control_description=None, sweep_number=1, parent=None)\n",
    "        nwbfile.add_acquisition(istim)\n",
    "        nwbfile.add_acquisition(vdata)\n",
    "\n",
    "        with NWB.NWBHDF5IO(str(Path(opath, outfilename))+'.nwb', 'w') as io:\n",
    "            io.write(nwbfile)\n",
    "        nwrite += 1\n",
    "print('ok')"
   ]
  }
 ],
 "metadata": {
  "kernelspec": {
   "display_name": "Python 3",
   "language": "python",
   "name": "python3"
  },
  "language_info": {
   "codemirror_mode": {
    "name": "ipython",
    "version": 3
   },
   "file_extension": ".py",
   "mimetype": "text/x-python",
   "name": "python",
   "nbconvert_exporter": "python",
   "pygments_lexer": "ipython3",
   "version": "3.7.6"
  }
 },
 "nbformat": 4,
 "nbformat_minor": 4
}
