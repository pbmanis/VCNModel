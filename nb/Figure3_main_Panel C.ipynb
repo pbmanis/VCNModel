{
 "cells": [
  {
   "cell_type": "code",
   "execution_count": 1,
   "id": "dietary-outreach",
   "metadata": {},
   "outputs": [],
   "source": [
    "%matplotlib qt\n",
    "import matplotlib.pyplot as mpl\n",
    "import numpy as np\n",
    "import cnmodel.util.sound as SND\n",
    "from pylibrary.plotting import plothelpers as PH\n",
    "def reset_style():\n",
    "#     sns.set_style(rc={\"pdf.fonttype\": 42})\n",
    "    mpl.style.use(\"~/.matplotlib/figures.mplstyle\")\n",
    "mpl.rcParams.update({\n",
    "    \"text.usetex\": True,\n",
    "    \"font.family\": \"sans-serif\",\n",
    "    \"font.sans-serif\": [\"Helvetica\"]})\n",
    "# for Palatino and other serif fonts use:\n",
    "# mpl.rcParams.update({\n",
    "#     \"text.usetex\": True,\n",
    "#     \"font.family\": \"serif\",\n",
    "#     \"font.serif\": [\"Palatino\"],\n",
    "# })"
   ]
  },
  {
   "cell_type": "markdown",
   "id": "metallic-infrastructure",
   "metadata": {},
   "source": [
    "Make a tone pip\n",
    "---------------"
   ]
  },
  {
   "cell_type": "code",
   "execution_count": 2,
   "id": "second-transport",
   "metadata": {},
   "outputs": [],
   "source": [
    "S = SND.TonePip(rate=1e5, duration=0.3, f0=250., dbspl=90., pip_duration=0.2, pip_start=[0.05], ramp_duration=0.0025)\n",
    "t = S.generate()\n",
    "f, ax = mpl.subplots(1,1)\n",
    "PH.cleanAxes(ax)\n",
    "PH.noaxes(ax)\n",
    "ax.plot(S.time, t)\n",
    "mpl.show()"
   ]
  },
  {
   "cell_type": "markdown",
   "id": "native-roller",
   "metadata": {},
   "source": [
    "Make a short AN spike train from the tone pip\n",
    "---------------------------------------------"
   ]
  },
  {
   "cell_type": "code",
   "execution_count": 3,
   "id": "artistic-pavilion",
   "metadata": {},
   "outputs": [
    {
     "name": "stderr",
     "output_type": "stream",
     "text": [
      "\n",
      "================================================================\n",
      "How to cite *cochlea*:\n",
      "\n",
      "Rudnicki M. and Hemmert W. (2009—). Cochlea: inner ear models in\n",
      "Python.  https://github.com/mrkrd/cochlea/\n",
      "\n",
      "@Misc{Rudnicki2009-Cochlea,\n",
      "  author       = {Rudnicki, M. and Hemmert, W.},\n",
      "  title        = {Cochlea: inner ear models in Python},\n",
      "  year         = {2009--},\n",
      "  howpublished = {https://github.com/mrkrd/cochlea},\n",
      "  url          = {https://github.com/mrkrd/cochlea},\n",
      "}\n",
      "================================================================\n",
      "\n"
     ]
    },
    {
     "name": "stdout",
     "output_type": "stream",
     "text": [
      "['R_a', '__class__', '__delattr__', '__dict__', '__dir__', '__doc__', '__eq__', '__format__', '__ge__', '__getattribute__', '__gt__', '__hash__', '__init__', '__init_subclass__', '__le__', '__lt__', '__module__', '__ne__', '__new__', '__reduce__', '__reduce_ex__', '__repr__', '__setattr__', '__sizeof__', '__str__', '__subclasshook__', '__weakref__', '_cf', '_ghk', '_lambda_f', '_simulator', '_sound_stim', '_spiketrain', '_sr', '_stvec', 'add_axon', 'add_section', 'adjust_na_chans', 'all_sections', 'areaMap', 'area_method', 'axnode', 'axon', 'axonsf', 'c_m', 'cell_initialize', 'celltype', 'cf', 'channel_manager', 'check_all_mechs', 'check_temperature', 'computeAreas', 'compute_rmrintau', 'connect', 'create', 'decorate', 'dendrite', 'distances', 'do_morphology', 'e_h', 'e_k', 'e_leak', 'e_na', 'find_i0', 'from_section', 'g_convert', 'generate_spiketrain', 'get_all_mechs', 'get_cellpars', 'get_initial_pars', 'get_mechs', 'get_post_sec', 'get_section_type', 'hr', 'i_currents', 'i_test_range', 'initial_mechanisms', 'initsegment', 'inputs', 'internode', 'list_sections', 'loadaxnodes', 'loadinternodes', 'maindend', 'make_exp2_psd', 'make_glu_psd', 'make_gly_psd', 'make_psd', 'make_terminal', 'nsets', 'outputs', 'pars', 'primary_section', 'print_all_mechs', 'print_connections', 'print_mechs', 'print_soma_info', 'print_status', 'pt3dareasec', 'save_all_mechs', 'scaled', 'sec_lookup', 'secareasec', 'secdend', 'segareasec', 'set_cm', 'set_morphology', 'set_nseg', 'set_primary_section', 'set_soma_size_from_Cm', 'set_soma_size_from_Diam', 'set_soma_size_from_soma_Sections', 'set_sound_stim', 'set_spiketrain', 'set_temperature', 'soma', 'somaarea', 'somaname', 'species', 'spike_source', 'spike_threshold', 'sr', 'status', 'totcap', 'type', 'use_morphology', 'vecstim', 'vm0', 'vrange']\n",
      "[ 5.22 15.06 22.25 28.51 33.67 37.49 42.66 50.48 55.14 61.84 88.16 93.06]\n"
     ]
    }
   ],
   "source": [
    "from neuron import h\n",
    "from cnmodel.protocols import Protocol\n",
    "from cnmodel import cells\n",
    "from cnmodel.util import custom_init\n",
    "\n",
    "preCell = cells.DummySGC(cf=4000, sr=2)\n",
    "postCell = cells.Bushy.create()\n",
    "synapse = preCell.connect(postCell)\n",
    "seed = 9\n",
    "temp=34.\n",
    "dt=0.025\n",
    "simulator = 'cochlea'\n",
    "stim = SND.TonePip(rate=100e3, duration=0.1, f0=4000, dbspl=80,\n",
    "                          ramp_duration=2.5e-3, pip_duration=0.04, \n",
    "                          pip_start=[0.02])\n",
    "preCell.set_sound_stim(stim, seed=seed, simulator=simulator)\n",
    "print(dir(preCell))\n",
    "# vm = postCell.soma(0.5)._ref_v\n",
    "# im = postCell.soma(0.5)._ref_i\n",
    "xmtr = [None]*30\n",
    "for i in range(30):\n",
    "    xmtr[i] = synapse.terminal.relsite._ref_XMTR[i]\n",
    "    synapse.terminal.relsite.Dep_Flag = False\n",
    "\n",
    "\n",
    "VClamp = h.SEClamp(0.5, sec=postCell.soma)\n",
    "VClamp.dur1 = 500.\n",
    "VClamp.amp1 = -65.\n",
    "VClamp.dur2 = 500.\n",
    "VClamp.amp2 = -65.\n",
    "VClamp.dur3 = 500.\n",
    "VClamp.amp3 = -65.\n",
    "\n",
    "\n",
    "VClamp.vc = -65.\n",
    "VClamp.rs = 1e-9\n",
    "vm = h.Vector()\n",
    "vm.record(postCell.soma(0.5)._ref_v, sec=postCell.soma)\n",
    "im = h.Vector()\n",
    "im.record(VClamp._ref_i, sec=postCell.soma)\n",
    "t = h.Vector()\n",
    "t.record(h._ref_t)\n",
    "sgc = h.Vector()\n",
    "sgc.record(preCell.soma(0.5)._ref_v, sec=preCell.soma)\n",
    "\n",
    "h.tstop = 100.0 # duration of a run\n",
    "h.celsius = temp\n",
    "h.dt = dt\n",
    "v_init = -65\n",
    "\n",
    "custom_init()\n",
    "h.run()\n",
    "print(preCell._spiketrain)\n",
    "f, ax = mpl.subplots(3,1)\n",
    "ax[0].plot(stim.time*1e3, stim.sound)\n",
    "pst = preCell._spiketrain\n",
    "opst = np.ones_like(pst)\n",
    "ax[1].plot(np.vstack((pst, pst, [np.nan]*len(pst))),\n",
    "           np.vstack((opst*0.9, opst*1.1, [np.nan]*len(pst))),\n",
    "                \n",
    "          color='k')\n",
    "\n",
    "ax[2].plot(t, im)\n",
    "for i in range(3):\n",
    "    ax[i].set_xlim(0, 100.)\n",
    "ax[1].set_ylim(0.5, 1.5)\n",
    "mpl.show()"
   ]
  },
  {
   "cell_type": "code",
   "execution_count": null,
   "id": "english-salmon",
   "metadata": {},
   "outputs": [],
   "source": []
  }
 ],
 "metadata": {
  "kernelspec": {
   "display_name": "Python 3 (ipykernel)",
   "language": "python",
   "name": "python3"
  },
  "language_info": {
   "codemirror_mode": {
    "name": "ipython",
    "version": 3
   },
   "file_extension": ".py",
   "mimetype": "text/x-python",
   "name": "python",
   "nbconvert_exporter": "python",
   "pygments_lexer": "ipython3",
   "version": "3.9.0"
  }
 },
 "nbformat": 4,
 "nbformat_minor": 5
}
