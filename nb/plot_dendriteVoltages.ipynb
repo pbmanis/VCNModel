{
 "cells": [
  {
   "cell_type": "code",
   "execution_count": 27,
   "metadata": {},
   "outputs": [
    {
     "name": "stdout",
     "output_type": "stream",
     "text": [
      "True\n",
      "True\n"
     ]
    }
   ],
   "source": [
    "\"\"\"\n",
    "Plot all of the section voltages\n",
    "\n",
    "Python 3.6, matplotlib 3.03\n",
    "\"\"\"\n",
    "%matplotlib qt\n",
    "import matplotlib\n",
    "matplotlib.use('Qt5Agg')\n",
    "import pickle\n",
    "import numpy as np\n",
    "import matplotlib.pyplot as mpl\n",
    "from pathlib import Path\n",
    "import re\n",
    "re_sn = re.compile('(sections\\[)(\\d+)(\\])')\n",
    "# test re:\n",
    "# n = 'sections[123]'\n",
    "# a = re_sn.match(n)\n",
    "# print(a.groups())\n",
    "\n",
    "base_path = \"ForGeorge\"\n",
    "base_path = '/Users/pbmanis/Desktop/Python/VCN-SBEM-Data/VCN_Cells' # VCN_Cells/VCN_c09/Simulations/AN'\n",
    "datafile = \"AN_Result_VCN_c09_inp=self_XM13nacncoop_II_soma=1.489_dend=1.236_delays_multisite_001_tonepip_030dB_16000.0_HS_noDendNa.p\"\n",
    "# datafile = \"AN_Result_VCN_c09_inp=self_XM13nacncoop_II_soma=1.489_dend=1.236_ASA=1.514_delays_multisite_050_tonepip_040dB_4000.0_MS.p\"\n",
    "datafile = \"VCN_c09/Simulations/AN/AN_Result_VCN_c09_inp=self_XM13_nacncoop_II_soma=1.514_dend=1.236_delays_multisite_001_tonepip_030dB_16000.0_MS_noDendNa.p\"\n",
    "datafile = \"VCN_c11/simulations/AN/AN_Result_VCN_c11_inp=self_XM13_nacncoop_II_soma=1.203_dend=1.510_ASA=1.203_delays_multisite_001_tonepip_050dB_4000.0_HS.p.dat\"\n",
    "datafile = \"VCN_c09/Simulations/AN/AN_Result_VCN_c09_inp=VCN_c09_XM13_nacncoop_II_delays_multisite_001_tonepip_050dB_16000.0_HS.p\"\n",
    "\n",
    "\n",
    "fnb = Path(base_path, datafile)\n",
    "print(Path(base_path).is_dir())\n",
    "print(fnb.is_file())"
   ]
  },
  {
   "cell_type": "code",
   "execution_count": 28,
   "metadata": {},
   "outputs": [
    {
     "name": "stdout",
     "output_type": "stream",
     "text": [
      "dict_keys(['spikeTimes', 'inputSpikeTimes', 'time', 'somaVoltage', 'dendriteVoltage', 'allDendriteVoltages', 'stimWaveform', 'stimTimebase'])\n"
     ]
    }
   ],
   "source": [
    "def get_one(fn):\n",
    "    d = pickle.load(open(fn, 'rb'))\n",
    "#     print(d.keys())\n",
    "#     print('NTrials: ', len(d['trials']))\n",
    "#     print(d['Params'].keys())\n",
    "    return d\n",
    "\n",
    "# d has 3 keys: 'Params' for the parsm of the stim,\n",
    "# 'mode', which tells us something about the structure of the data\n",
    "# 'trials', which holds each trial (repetition) for the simulation.\n",
    "# in this case for this file, we have one trial.\n",
    "\n",
    "d = get_one(fnb)\n",
    "assert d['mode'] == 'reps'\n",
    "\n",
    "data = d['Results'][0]\n",
    "print(data.keys())\n"
   ]
  },
  {
   "cell_type": "code",
   "execution_count": 29,
   "metadata": {},
   "outputs": [
    {
     "name": "stdout",
     "output_type": "stream",
     "text": [
      "dict_keys([0])\n"
     ]
    },
    {
     "name": "stderr",
     "output_type": "stream",
     "text": [
      "/Users/pbmanis/anaconda/envs/vcnpy3/lib/python3.7/site-packages/ipykernel/eventloops.py:106: UserWarning: Creating legend with loc=\"best\" can be slow with large amounts of data.\n",
      "  app.exec_()\n"
     ]
    }
   ],
   "source": [
    "# plot the data\n",
    "\n",
    "f, ax = mpl.subplots(1,1)\n",
    "print(data['allDendriteVoltages'].keys())\n",
    "#print(data['allDendriteVoltages'])\n",
    "namelist = list(data['allDendriteVoltages'][0].keys())\n",
    "\n",
    "secnos = []\n",
    "deltav = 0.\n",
    "for n in namelist:\n",
    "    a = re_sn.match(n)\n",
    "    if a is not None:\n",
    "        secnos.append(int(a.groups()[1]))    \n",
    "#secnos = [3, 1, 2, 0, 4, 5, 6]\n",
    "colsec = ['k', 'b', 'g', 'r', 'c', 'm', 'y']\n",
    "seclabel = ['axon', 'unmyel', 'hillock', 'soma', 'dendrite 0', 'dendrite 1', 'dendrite 2']\n",
    "for i, secno in enumerate(namelist):\n",
    "    #secname = f\"sections[{secno:d}]\"\n",
    "    secname = secno\n",
    "#     print(i, secname, colsec[i%len(colsec)])\n",
    "\n",
    "    ax.plot(data['time'], data['allDendriteVoltages'][0][secname], +deltav*i,\n",
    "        linewidth=0.6, color=colsec[i%len(colsec)], label=secname) # seclabel[i])\n",
    "#         ax.plot(data['time'], data['somaVoltage'],\n",
    "#             linewidth=0.6, color=colsec[i%len(colsec)], label=secname) # seclabel[i])\n",
    "ax.grid()\n",
    "ax.legend(fontsize=4)\n",
    "mpl.show()"
   ]
  },
  {
   "cell_type": "code",
   "execution_count": null,
   "metadata": {},
   "outputs": [],
   "source": [
    "\n"
   ]
  }
 ],
 "metadata": {
  "kernelspec": {
   "display_name": "Python 3",
   "language": "python",
   "name": "python3"
  },
  "language_info": {
   "codemirror_mode": {
    "name": "ipython",
    "version": 3
   },
   "file_extension": ".py",
   "mimetype": "text/x-python",
   "name": "python",
   "nbconvert_exporter": "python",
   "pygments_lexer": "ipython3",
   "version": "3.7.6"
  }
 },
 "nbformat": 4,
 "nbformat_minor": 4
}
