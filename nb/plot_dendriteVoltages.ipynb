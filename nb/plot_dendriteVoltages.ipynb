{
 "cells": [
  {
   "cell_type": "code",
   "execution_count": 1,
   "metadata": {},
   "outputs": [
    {
     "name": "stderr",
     "output_type": "stream",
     "text": [
      "/Users/pbmanis/anaconda/envs/py3mpl3/lib/python3.6/site-packages/ipykernel_launcher.py:9: UserWarning: matplotlib.pyplot as already been imported, this call will have no effect.\n",
      "  if __name__ == '__main__':\n"
     ]
    }
   ],
   "source": [
    "\"\"\"\n",
    "Plot all of the section voltages\n",
    "Voltages are plotted in section order, from bottom (section[0]) to top (highest numbered section), separated by 10 mV\n",
    "\n",
    "Python 3.6, matplotlib 3.03\n",
    "\"\"\"\n",
    "%matplotlib qt\n",
    "import matplotlib\n",
    "matplotlib.use('Qt4Agg')\n",
    "import pickle\n",
    "import numpy as np\n",
    "import matplotlib.pyplot as mpl\n",
    "from pathlib import Path\n",
    "import re\n",
    "re_sn = re.compile('(sections\\[)(\\d+)(\\])')\n",
    "# test re:\n",
    "# n = 'sections[123]'\n",
    "# a = re_sn.match(n)\n",
    "# print(a.groups())\n",
    "\n",
    "base_path = \"ForGeorge\"\n",
    "base_path = 'VCN_Cells/VCN_c09/Simulations/AN'\n",
    "# datafile = \"AN_Result_VCN_c09_inp=self_XM13nacncoop_II_soma=1.489_dend=1.236_delays_multisite_001_tonepip_030dB_16000.0_HS_noDendNa.p\"\n",
    "datafile = \"AN_Result_VCN_c09_inp=self_XM13nacncoop_II_soma=1.489_dend=1.236_delays_multisite_001_tonepip_030dB_16000.0_HS_noDendNa.p\"\n",
    "\n",
    "\n",
    "fnb = Path(base_path, datafile)\n",
    "\n"
   ]
  },
  {
   "cell_type": "code",
   "execution_count": 2,
   "metadata": {},
   "outputs": [],
   "source": [
    "def get_one(fn):\n",
    "    d = pickle.load(open(fn, 'rb'))\n",
    "#     print(d.keys())\n",
    "#     print('NTrials: ', len(d['trials']))\n",
    "#     print(d['Params'].keys())\n",
    "    return d\n",
    "\n",
    "# d has 3 keys: 'Params' for the parsm of the stim,\n",
    "# 'mode', which tells us something about the structure of the data\n",
    "# 'trials', which holds each trial (repetition) for the simulation.\n",
    "# in this case for this file, we have one trial.\n",
    "\n",
    "d = get_one(fnb)\n",
    "assert d['mode'] == 'reps'\n",
    "\n",
    "data = d['trials'][0]\n",
    "\n"
   ]
  },
  {
   "cell_type": "code",
   "execution_count": 11,
   "metadata": {},
   "outputs": [
    {
     "name": "stdout",
     "output_type": "stream",
     "text": [
      "0 sections[3] k\n",
      "1 sections[1] b\n",
      "2 sections[2] g\n",
      "3 sections[0] r\n",
      "4 sections[4] c\n",
      "5 sections[5] m\n",
      "6 sections[6] y\n"
     ]
    }
   ],
   "source": [
    "# plot the data\n",
    "\n",
    "f, ax = mpl.subplots(1,1)\n",
    "namelist = list(data['allDendriteVoltages'][0].keys())\n",
    "secnos = []\n",
    "deltav = 0.\n",
    "for n in namelist:\n",
    "    a = re_sn.match(n)\n",
    "    if a is not None:\n",
    "        secnos.append(int(a.groups()[1]))    \n",
    "secnos = [3, 1, 2, 0, 4, 5, 6]\n",
    "colsec = ['k', 'b', 'g', 'r', 'c', 'm', 'y']\n",
    "seclabel = ['axon', 'unmyel', 'hillock', 'soma', 'dendrite 0', 'dendrite 1', 'dendrite 2']\n",
    "for i, secno in enumerate((secnos)):\n",
    "    secname = f\"sections[{secno:d}]\"\n",
    "    print(i, secname, colsec[i])\n",
    "    ax.plot(d['trials'][0]['time'], data['allDendriteVoltages'][0][secname]+deltav*i,\n",
    "            linewidth=0.6, color=colsec[i], label=seclabel[i])\n",
    "ax.grid()\n",
    "ax.legend()\n",
    "mpl.show()"
   ]
  },
  {
   "cell_type": "code",
   "execution_count": null,
   "metadata": {},
   "outputs": [],
   "source": []
  }
 ],
 "metadata": {
  "kernelspec": {
   "display_name": "Python 3",
   "language": "python",
   "name": "python3"
  },
  "language_info": {
   "codemirror_mode": {
    "name": "ipython",
    "version": 3
   },
   "file_extension": ".py",
   "mimetype": "text/x-python",
   "name": "python",
   "nbconvert_exporter": "python",
   "pygments_lexer": "ipython3",
   "version": "3.6.5"
  }
 },
 "nbformat": 4,
 "nbformat_minor": 2
}
