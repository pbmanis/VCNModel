{
 "cells": [
  {
   "cell_type": "code",
   "execution_count": 23,
   "metadata": {},
   "outputs": [
    {
     "name": "stdout",
     "output_type": "stream",
     "text": [
      "True\n",
      "True\n"
     ]
    },
    {
     "name": "stderr",
     "output_type": "stream",
     "text": [
      "/Users/pbmanis/anaconda/envs/py3mpl3/lib/python3.6/site-packages/ipykernel_launcher.py:9: UserWarning: matplotlib.pyplot as already been imported, this call will have no effect.\n",
      "  if __name__ == '__main__':\n"
     ]
    }
   ],
   "source": [
    "\"\"\"\n",
    "Plot all of the section voltages\n",
    "\n",
    "Python 3.6, matplotlib 3.03\n",
    "\"\"\"\n",
    "%matplotlib qt\n",
    "import matplotlib\n",
    "matplotlib.use('Qt4Agg')\n",
    "import pickle\n",
    "import numpy as np\n",
    "import matplotlib.pyplot as mpl\n",
    "from pathlib import Path\n",
    "import re\n",
    "re_sn = re.compile('(sections\\[)(\\d+)(\\])')\n",
    "# test re:\n",
    "# n = 'sections[123]'\n",
    "# a = re_sn.match(n)\n",
    "# print(a.groups())\n",
    "\n",
    "base_path = \"ForGeorge\"\n",
    "base_path = '/Users/pbmanis/Desktop/Python/VCNModel/' # VCN_Cells/VCN_c09/Simulations/AN'\n",
    "datafile = \"AN_Result_VCN_c09_inp=self_XM13nacncoop_II_soma=1.489_dend=1.236_delays_multisite_001_tonepip_030dB_16000.0_HS_noDendNa.p\"\n",
    "# datafile = \"AN_Result_VCN_c09_inp=self_XM13nacncoop_II_soma=1.489_dend=1.236_ASA=1.514_delays_multisite_050_tonepip_040dB_4000.0_MS.p\"\n",
    "datafile = \"VCN_Cells/VCN_c09/Simulations/AN/AN_Result_VCN_c09_inp=self_XM13_nacncoop_II_soma=1.514_dend=1.236_delays_multisite_001_tonepip_030dB_16000.0_MS_noDendNa.p\"\n",
    "\n",
    "\n",
    "\n",
    "fnb = Path(base_path, datafile)\n",
    "print(Path(base_path).is_dir())\n",
    "print(fnb.is_file())"
   ]
  },
  {
   "cell_type": "code",
   "execution_count": 35,
   "metadata": {},
   "outputs": [
    {
     "name": "stdout",
     "output_type": "stream",
     "text": [
      "dict_keys(['stimInfo', 'spikeTimes', 'inputSpikeTimes', 'time', 'somaVoltage', 'dendriteVoltage', 'allDendriteVoltages', 'stimWaveform', 'stimTimebase'])\n"
     ]
    }
   ],
   "source": [
    "def get_one(fn):\n",
    "    d = pickle.load(open(fn, 'rb'))\n",
    "#     print(d.keys())\n",
    "#     print('NTrials: ', len(d['trials']))\n",
    "#     print(d['Params'].keys())\n",
    "    return d\n",
    "\n",
    "# d has 3 keys: 'Params' for the parsm of the stim,\n",
    "# 'mode', which tells us something about the structure of the data\n",
    "# 'trials', which holds each trial (repetition) for the simulation.\n",
    "# in this case for this file, we have one trial.\n",
    "\n",
    "d = get_one(fnb)\n",
    "assert d['mode'] == 'reps'\n",
    "\n",
    "data = d['trials'][0]\n",
    "print(data.keys())\n"
   ]
  },
  {
   "cell_type": "code",
   "execution_count": 37,
   "metadata": {},
   "outputs": [
    {
     "name": "stdout",
     "output_type": "stream",
     "text": [
      "['sections[0]', 'sections[100]', 'sections[101]', 'sections[102]', 'sections[103]', 'sections[104]', 'sections[105]', 'sections[106]', 'sections[107]', 'sections[108]', 'sections[109]', 'sections[10]', 'sections[110]', 'sections[111]', 'sections[112]', 'sections[113]', 'sections[114]', 'sections[115]', 'sections[116]', 'sections[117]', 'sections[118]', 'sections[119]', 'sections[11]', 'sections[120]', 'sections[121]', 'sections[122]', 'sections[123]', 'sections[124]', 'sections[125]', 'sections[126]', 'sections[127]', 'sections[128]', 'sections[129]', 'sections[12]', 'sections[130]', 'sections[131]', 'sections[132]', 'sections[133]', 'sections[134]', 'sections[135]', 'sections[136]', 'sections[137]', 'sections[138]', 'sections[139]', 'sections[13]', 'sections[140]', 'sections[141]', 'sections[142]', 'sections[143]', 'sections[144]', 'sections[145]', 'sections[146]', 'sections[147]', 'sections[148]', 'sections[149]', 'sections[14]', 'sections[150]', 'sections[151]', 'sections[152]', 'sections[153]', 'sections[154]', 'sections[155]', 'sections[156]', 'sections[157]', 'sections[158]', 'sections[159]', 'sections[15]', 'sections[160]', 'sections[161]', 'sections[162]', 'sections[163]', 'sections[164]', 'sections[165]', 'sections[166]', 'sections[167]', 'sections[168]', 'sections[169]', 'sections[16]', 'sections[170]', 'sections[171]', 'sections[172]', 'sections[173]', 'sections[174]', 'sections[175]', 'sections[176]', 'sections[177]', 'sections[178]', 'sections[179]', 'sections[17]', 'sections[180]', 'sections[181]', 'sections[182]', 'sections[183]', 'sections[184]', 'sections[185]', 'sections[186]', 'sections[187]', 'sections[188]', 'sections[189]', 'sections[18]', 'sections[190]', 'sections[191]', 'sections[192]', 'sections[193]', 'sections[194]', 'sections[195]', 'sections[196]', 'sections[197]', 'sections[198]', 'sections[199]', 'sections[19]', 'sections[1]', 'sections[200]', 'sections[201]', 'sections[202]', 'sections[203]', 'sections[204]', 'sections[205]', 'sections[206]', 'sections[207]', 'sections[208]', 'sections[209]', 'sections[20]', 'sections[210]', 'sections[211]', 'sections[212]', 'sections[21]', 'sections[22]', 'sections[23]', 'sections[24]', 'sections[25]', 'sections[26]', 'sections[27]', 'sections[28]', 'sections[29]', 'sections[2]', 'sections[30]', 'sections[31]', 'sections[32]', 'sections[33]', 'sections[34]', 'sections[35]', 'sections[36]', 'sections[37]', 'sections[38]', 'sections[39]', 'sections[3]', 'sections[40]', 'sections[41]', 'sections[42]', 'sections[43]', 'sections[44]', 'sections[45]', 'sections[46]', 'sections[47]', 'sections[48]', 'sections[49]', 'sections[4]', 'sections[50]', 'sections[51]', 'sections[52]', 'sections[53]', 'sections[54]', 'sections[55]', 'sections[56]', 'sections[57]', 'sections[58]', 'sections[59]', 'sections[5]', 'sections[60]', 'sections[61]', 'sections[62]', 'sections[63]', 'sections[64]', 'sections[65]', 'sections[66]', 'sections[67]', 'sections[68]', 'sections[69]', 'sections[6]', 'sections[70]', 'sections[71]', 'sections[72]', 'sections[73]', 'sections[74]', 'sections[75]', 'sections[76]', 'sections[77]', 'sections[78]', 'sections[79]', 'sections[7]', 'sections[80]', 'sections[81]', 'sections[82]', 'sections[83]', 'sections[84]', 'sections[85]', 'sections[86]', 'sections[87]', 'sections[88]', 'sections[89]', 'sections[8]', 'sections[90]', 'sections[91]', 'sections[92]', 'sections[93]', 'sections[94]', 'sections[95]', 'sections[96]', 'sections[97]', 'sections[98]', 'sections[99]', 'sections[9]']\n"
     ]
    }
   ],
   "source": [
    "# plot the data\n",
    "\n",
    "f, ax = mpl.subplots(1,1)\n",
    "# print(data['allDendriteVoltages'].keys())\n",
    "namelist = list(data['allDendriteVoltages'][0].keys())\n",
    "print(sorted(namelist))\n",
    "secnos = []\n",
    "deltav = 0.\n",
    "for n in namelist:\n",
    "    a = re_sn.match(n)\n",
    "    if a is not None:\n",
    "        secnos.append(int(a.groups()[1]))    \n",
    "#secnos = [3, 1, 2, 0, 4, 5, 6]\n",
    "colsec = ['k', 'b', 'g', 'r', 'c', 'm', 'y']\n",
    "seclabel = ['axon', 'unmyel', 'hillock', 'soma', 'dendrite 0', 'dendrite 1', 'dendrite 2']\n",
    "for i, secno in enumerate(namelist):\n",
    "    #secname = f\"sections[{secno:d}]\"\n",
    "    secname = secno\n",
    "#     print(i, secname, colsec[i%len(colsec)])\n",
    "    ax.plot(d['trials'][0]['time'], data['allDendriteVoltages'][0][secname]+deltav*i,\n",
    "            linewidth=0.6, color=colsec[i%len(colsec)], label=secname) # seclabel[i])\n",
    "ax.grid()\n",
    "ax.legend(fontsize=4)\n",
    "mpl.show()"
   ]
  },
  {
   "cell_type": "code",
   "execution_count": null,
   "metadata": {},
   "outputs": [],
   "source": []
  }
 ],
 "metadata": {
  "kernelspec": {
   "display_name": "Python 3",
   "language": "python",
   "name": "python3"
  },
  "language_info": {
   "codemirror_mode": {
    "name": "ipython",
    "version": 3
   },
   "file_extension": ".py",
   "mimetype": "text/x-python",
   "name": "python",
   "nbconvert_exporter": "python",
   "pygments_lexer": "ipython3",
   "version": "3.6.5"
  }
 },
 "nbformat": 4,
 "nbformat_minor": 2
}
