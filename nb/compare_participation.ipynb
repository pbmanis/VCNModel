{
 "cells": [
  {
   "cell_type": "code",
   "execution_count": 36,
   "metadata": {},
   "outputs": [
    {
     "name": "stdout",
     "output_type": "stream",
     "text": [
      "/Users/pbmanis/Desktop/Python/VCNModel\n",
      "{'baseDataDirectory': '/Users/pbmanis/Desktop/Python/VCN-SBEM-Data', 'cellDataDirectory': '/Users/pbmanis/Desktop/Python/VCN-SBEM-Data/VCN_Cells', 'baseMorphologyDirectory': '/Users/pbmanis/Desktop/Python/VCN-SBEM-Data/MorphologyData/VCN', 'codeDirectory': '/Users/pbmanis/Desktop/Python/vcnmodel', 'pngDirectory': 'VCN-CellImages-1-2020/Bushy_Cells', 'dendriteQualityFile': 'Dendrite Quality and Surface Areas_comparisons_29_June_2020.xlsx', 'asaData': 'Input_ASA_FromautoASA.py', 'asaHeaderSkip': 0, 'SomaAndDendriteData': 'SomaDendrite_Summary'}\n"
     ]
    }
   ],
   "source": [
    "%matplotlib qt\n",
    "from pathlib import Path\n",
    "import plotnine as PN\n",
    "import io\n",
    "import pandas as pd\n",
    "import numpy as np\n",
    "import pickle\n",
    "import os\n",
    "import sys\n",
    "import palettable\n",
    "import seaborn as sns\n",
    "from pylibrary.plotting import plothelpers as PH\n",
    "# sys.path.insert(0, os.path.abspath('nb'))\n",
    "import vcnmodel.VS_data as VS_data\n",
    "import matplotlib.pyplot as mpl\n",
    "import toml\n",
    "print(os.getcwd())\n",
    "os.chdir(\"/Users/pbmanis/Desktop/Python/VCNModel\")\n",
    "config = toml.load(open(\"wheres_my_data.toml\", \"r\"))\n",
    "print(config)\n",
    "os.chdir(config['codeDirectory'])"
   ]
  },
  {
   "cell_type": "code",
   "execution_count": null,
   "metadata": {},
   "outputs": [],
   "source": []
  },
  {
   "cell_type": "code",
   "execution_count": 37,
   "metadata": {},
   "outputs": [
    {
     "name": "stdout",
     "output_type": "stream",
     "text": [
      "dict_keys([2, 5, 6, 9, 10, 11, 13, 17, 18, 30])\n",
      "dict_keys([2, 5, 6, 9, 10, 11, 13, 17, 18, 30])\n"
     ]
    }
   ],
   "source": [
    "def load_rcdata(dBSPL):\n",
    "    rc_datafile = Path(config['codeDirectory'], f\"GradeA_RCD_RCP_all_revcorrs_{dBSPL:s}.pkl\")\n",
    "    with open(rc_datafile, 'rb') as fh:\n",
    "        d = pickle.load(fh)\n",
    "    print(d.keys())\n",
    "    return d\n",
    "\n",
    "ds = load_rcdata('Spont')\n",
    "d40 = load_rcdata('40dB')"
   ]
  },
  {
   "cell_type": "code",
   "execution_count": 70,
   "metadata": {},
   "outputs": [],
   "source": [
    "\n",
    "palette = sns.color_palette(None, len(ds.keys()))\n",
    "\n",
    "def plot_participation(ax, n, a, b, color):\n",
    "    ap = a[n][0].participation/a[n][0].npost_spikes\n",
    "    bp = b[n][0].participation/b[n][0].npost_spikes\n",
    "    ax.plot([a[n][0].sites, a[n][0].sites], [ap,  bp], '-',  color=color)\n",
    "    ax.scatter(a[n][0].sites,  ap,  marker='o', color=color)\n",
    "    ax.scatter(a[n][0].sites,  bp,  marker='x', color=color)\n",
    "    ax.set_xlabel(r\"# Release Sites\")\n",
    "    ax.set_xlim(0, 250)\n",
    "    ax.set_ylim(0, 1.0)\n",
    "    ax.set_ylabel(\"Participation at 0, 50 dBSPL\")\n",
    "    PH.talbotTicks(ax, floatAdd={'x': 0, 'y': 2})\n",
    "\n",
    "    \n",
    "def plot_diff_participation(ax, n, a, b, color):\n",
    "    ap = a[n][0].participation/a[n][0].npost_spikes\n",
    "    bp = b[n][0].participation/b[n][0].npost_spikes\n",
    "    ax.scatter(a[n][0].sites,  bp/ap,  marker='o', color=color, label=f\"VCN_c{n:02d}\")\n",
    "    ax.set_xlabel(r\"# Release Sites\")\n",
    "    ax.set_xlim(0, 300)\n",
    "#     ax.set_ylim(-0.25, 0.75)\n",
    "    ax.set_ylabel(\"Change in Participation at 50 dBSPL\")\n",
    "    PH.talbotTicks(ax, floatAdd={'x': 0, 'y': 2})\n",
    "    ax.legend(fontsize=8, loc='upper right', ncol=2)\n",
    "\n",
    "    \n",
    "fig, ax = mpl.subplots(1, 2)\n",
    "fig.set_size_inches(8, 4)\n",
    "\n",
    "for i, c in enumerate(ds.keys()):\n",
    "    plot_participation(ax[0], c, ds, d40, color=palette[i])\n",
    "    plot_diff_participation(ax[1], c, ds, d40, color=palette[i])\n",
    "\n",
    "mpl.show()"
   ]
  },
  {
   "cell_type": "code",
   "execution_count": 66,
   "metadata": {},
   "outputs": [
    {
     "name": "stdout",
     "output_type": "stream",
     "text": [
      "25\n",
      "2\n",
      "['C', 'CB', 'CBT', 'STTC', 'TC', '__annotations__', '__class__', '__dataclass_fields__', '__dataclass_params__', '__delattr__', '__dict__', '__dir__', '__doc__', '__eq__', '__format__', '__ge__', '__getattribute__', '__gt__', '__hash__', '__init__', '__init_subclass__', '__le__', '__lt__', '__module__', '__ne__', '__new__', '__reduce__', '__reduce_ex__', '__repr__', '__setattr__', '__sizeof__', '__str__', '__subclasshook__', '__weakref__', 'max_coin_rate', 'npost', 'npost_spikes', 'npre', 'npre_spikes', 'nsp_avg', 'nspikes', 'pairwise', 'participation', 'pre_w', 's_pair', 'sites', 'st', 'sv_all', 'sv_avg', 'sv_sites', 'ti', 'ti_avg', 'tx', 'ynspike']\n",
      "[0.1414956  0.67155425 0.94648094 0.99706745 1.         1.        ]\n",
      "[[0.         0.10034752 0.09774109 0.0986099  0.0981755  0.0799305 ]\n",
      " [0.         0.         0.06472632 0.07037359 0.06472632 0.04517811]\n",
      " [0.         0.         0.         0.05516942 0.05690704 0.04344049]\n",
      " [0.         0.         0.         0.         0.05125977 0.03649001]\n",
      " [0.         0.         0.         0.         0.         0.03692441]\n",
      " [0.         0.         0.         0.         0.         0.        ]]\n"
     ]
    }
   ],
   "source": [
    "print(len(ds[2][0].st))\n",
    "print(len(ds[2]))\n",
    "print(dir(ds[2][0]))\n",
    "print(ds[2][0].ynspike)\n",
    "print(ds[2][0].pairwise)"
   ]
  },
  {
   "cell_type": "code",
   "execution_count": null,
   "metadata": {},
   "outputs": [],
   "source": []
  }
 ],
 "metadata": {
  "kernelspec": {
   "display_name": "Python 3",
   "language": "python",
   "name": "python3"
  },
  "language_info": {
   "codemirror_mode": {
    "name": "ipython",
    "version": 3
   },
   "file_extension": ".py",
   "mimetype": "text/x-python",
   "name": "python",
   "nbconvert_exporter": "python",
   "pygments_lexer": "ipython3",
   "version": "3.8.6"
  }
 },
 "nbformat": 4,
 "nbformat_minor": 4
}
