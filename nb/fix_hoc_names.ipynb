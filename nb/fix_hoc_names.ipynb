{
 "cells": [
  {
   "cell_type": "code",
   "execution_count": 37,
   "metadata": {},
   "outputs": [
    {
     "name": "stdout",
     "output_type": "stream",
     "text": [
      "/Users/pbmanis/Desktop/Python/VCN-SBEM-Data/VCN_Cells/VCN_c21/Morphology/VCN_c21.hocx\n",
      "/Users/pbmanis/Desktop/Python/VCN-SBEM-Data/VCN_Cells/VCN_c19/Morphology/VCN_c19.hocx\n",
      "/Users/pbmanis/Desktop/Python/VCN-SBEM-Data/VCN_Cells/VCN_c17/Morphology/VCN_c17.hocx\n",
      "/Users/pbmanis/Desktop/Python/VCN-SBEM-Data/VCN_Cells/VCN_c16/Morphology/VCN_c16.hocx\n",
      "/Users/pbmanis/Desktop/Python/VCN-SBEM-Data/VCN_Cells/VCN_c11/Morphology/VCN_c11.hocx\n",
      "/Users/pbmanis/Desktop/Python/VCN-SBEM-Data/VCN_Cells/VCN_c18/Morphology/VCN_c18.hocx\n",
      "/Users/pbmanis/Desktop/Python/VCN-SBEM-Data/VCN_Cells/VCN_c20/Morphology/VCN_c20.hocx\n",
      "/Users/pbmanis/Desktop/Python/VCN-SBEM-Data/VCN_Cells/VCN_c09nd/Morphology/VCN_c09nd.hocx\n",
      "/Users/pbmanis/Desktop/Python/VCN-SBEM-Data/VCN_Cells/VCN_c09h/Morphology/VCN_c09h.hocx\n",
      "/Users/pbmanis/Desktop/Python/VCN-SBEM-Data/VCN_Cells/VCN_c22/Morphology/VCN_c22.hocx\n",
      "/Users/pbmanis/Desktop/Python/VCN-SBEM-Data/VCN_Cells/VCN_c14/Morphology/VCN_c14.hocx\n",
      "/Users/pbmanis/Desktop/Python/VCN-SBEM-Data/VCN_Cells/VCN_c99/Morphology/VCN_c99.hocx\n",
      "/Users/pbmanis/Desktop/Python/VCN-SBEM-Data/VCN_Cells/VCN_c08/Morphology/VCN_c08.hocx\n",
      "/Users/pbmanis/Desktop/Python/VCN-SBEM-Data/VCN_Cells/VCN_c09/Morphology/VCN_c09.hocx\n",
      "/Users/pbmanis/Desktop/Python/VCN-SBEM-Data/VCN_Cells/VCN_c00/Morphology/VCN_c00.hocx\n"
     ]
    }
   ],
   "source": [
    "from pathlib import Path\n",
    "import re\n",
    "\n",
    "def read_hoc(x):\n",
    "    newf = []\n",
    "    xn = x.with_suffix('.hocx')\n",
    "    print(str(xn))\n",
    "    with open(x, 'r') as fh:\n",
    "        for line in fh:\n",
    "            line = line.replace('dendrite', 'Proximal_Dendrite')\n",
    "            line = line.replace('myelinatedaxon', 'Myelinated_Axon')\n",
    "            line = line.replace('unmyelinatedaxon', 'Unmyelinated_Axon')\n",
    "            line = line.replace('unMyelinated_Axon', 'Unmyelinated_Axon')\n",
    "\n",
    "            line = line.replace('hillock', 'Axon_Hillock')\n",
    "            line = line.replace('initialsegment', 'Axon_Initial_Segment')\n",
    "            newf.append(line)\n",
    "    with open(xn, 'w') as fh:\n",
    "        for l in newf:\n",
    "            fh.write(l)\n",
    "#             print(line)\n",
    "\n",
    "dpath = Path('/Users/pbmanis/Desktop/Python/VCN-SBEM-Data/VCN_Cells')\n",
    "top = list(dpath.glob('VCN_c*'))\n",
    "for t in top:\n",
    "#     print(t)\n",
    "    cname  = Path(t.stem).with_suffix('.hoc')\n",
    "#     print(cname)\n",
    "    all_morph = list(t.glob(f\"Morphology/{str(cname):s}\"))\n",
    "    for x in all_morph:\n",
    "        s = read_hoc(x)\n",
    "#         print('x: ', x)\n",
    "#         print(s)\n"
   ]
  },
  {
   "cell_type": "code",
   "execution_count": null,
   "metadata": {},
   "outputs": [],
   "source": []
  },
  {
   "cell_type": "code",
   "execution_count": null,
   "metadata": {},
   "outputs": [],
   "source": []
  }
 ],
 "metadata": {
  "kernelspec": {
   "display_name": "Python 3",
   "language": "python",
   "name": "python3"
  },
  "language_info": {
   "codemirror_mode": {
    "name": "ipython",
    "version": 3
   },
   "file_extension": ".py",
   "mimetype": "text/x-python",
   "name": "python",
   "nbconvert_exporter": "python",
   "pygments_lexer": "ipython3",
   "version": "3.7.3"
  }
 },
 "nbformat": 4,
 "nbformat_minor": 4
}
