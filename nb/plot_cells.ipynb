{
 "cells": [
  {
   "cell_type": "code",
   "execution_count": 28,
   "metadata": {},
   "outputs": [
    {
     "name": "stdout",
     "output_type": "stream",
     "text": [
      "27\n"
     ]
    }
   ],
   "source": [
    "import matplotlib.pyplot as mpl\n",
    "from pathlib import Path\n",
    "import pylibrary.plotting.plothelpers as PH\n",
    "import matplotlib.image as mpimg\n",
    "import numpy as np\n",
    "\n",
    "fn = Path('/Users/pbmanis/Desktop/Python/VCNModel/VCN-CellImages-1-2020/Bushy_Cells')\n",
    "\n",
    "fns = fn.glob('*.png')\n",
    "pngs = list(fns)\n",
    "npngs = len(pngs)\n",
    "print(npngs)"
   ]
  },
  {
   "cell_type": "code",
   "execution_count": 63,
   "metadata": {},
   "outputs": [],
   "source": [
    "rows, cols = PH.getLayoutDimensions(npngs)\n",
    "P = PH.regular_grid(rows, cols, order='rowsfirst', figsize=(10.0, 10.0), \n",
    "                    showgrid=False, verticalspacing=0.01, horizontalspacing=0.01, \n",
    "                    margins={'bottommargin': 0.1, 'leftmargin': 0.07, 'rightmargin': 0.05, 'topmargin': 0.03}, \n",
    "                    labelposition=(0.0, 0.0), parent_figure=None, panel_labels=None, )\n",
    "\n",
    "ext = 100\n",
    "axarray = P.axarr.ravel()\n",
    "for i, p in enumerate(pngs):\n",
    "    img=mpimg.imread(str(p))\n",
    "    axarray[i].imshow(img,  aspect='equal')\n",
    "    axarray[i].set_title(str(p.name).replace('_', '\\_'))\n",
    "    ylim = axarray[i].get_ylim()\n",
    "#     print('xlim: ', ylim)\n",
    "# xlim for these ata are 0, 2500\n",
    "    if 'c10' in str(p):\n",
    "        axarray[i].set_xlim(200, 2000)\n",
    "    else:\n",
    "        axarray[i].set_xlim(800, 1700)\n",
    "#     axarray[i].set_ylim(1200, 300)\n",
    "    \n",
    "    PH.noaxes(axarray[i])\n",
    "for j in range(i, rows*cols):\n",
    "    PH.noaxes(axarray[j])\n",
    "mpl.show()"
   ]
  },
  {
   "cell_type": "code",
   "execution_count": null,
   "metadata": {},
   "outputs": [],
   "source": []
  }
 ],
 "metadata": {
  "kernelspec": {
   "display_name": "Python 3",
   "language": "python",
   "name": "python3"
  },
  "language_info": {
   "codemirror_mode": {
    "name": "ipython",
    "version": 3
   },
   "file_extension": ".py",
   "mimetype": "text/x-python",
   "name": "python",
   "nbconvert_exporter": "python",
   "pygments_lexer": "ipython3",
   "version": "3.7.3"
  }
 },
 "nbformat": 4,
 "nbformat_minor": 4
}
