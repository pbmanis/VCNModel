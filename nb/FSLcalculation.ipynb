{
 "cells": [
  {
   "cell_type": "code",
   "execution_count": 82,
   "metadata": {},
   "outputs": [
    {
     "name": "stdout",
     "output_type": "stream",
     "text": [
      "dict_keys(['stimInfo', 'spikeTimes', 'inputSpikeTimes', 'time', 'somaVoltage', 'dendriteVoltage', 'allDendriteVoltages', 'stimWaveform', 'stimTimebase'])\n"
     ]
    },
    {
     "name": "stderr",
     "output_type": "stream",
     "text": [
      "/Users/pbmanis/anaconda/envs/py3mpl3/lib/python3.6/site-packages/ipykernel_launcher.py:7: UserWarning: matplotlib.pyplot as already been imported, this call will have no effect.\n",
      "  import sys\n"
     ]
    }
   ],
   "source": [
    "\"\"\"\n",
    "Plot voltages from a model_run.py output file\n",
    "\"\"\"\n",
    "%matplotlib qt\n",
    "import os\n",
    "import matplotlib\n",
    "matplotlib.use('Qt4Agg')\n",
    "import pickle\n",
    "import numpy as np\n",
    "from cnmodel.util import sound\n",
    "import matplotlib.pyplot as mpl\n",
    "from pathlib import Path\n",
    "import pylibrary.PlotHelpers as PH\n",
    "from cnmodel.util import vector_strength\n",
    "import json\n",
    "\n",
    "nreps = 5\n",
    "\n",
    "fnb1 = 'ForGeorge/AN_Result_VCN_c09_inp=self_XM13nacncoop_II_soma=1.489_dend=1.236_all_multisite_050_tonepip_030dB_16000.0_MS.p'\n",
    "fnb2 = 'ForGeorge/AN_Result_VCN_c09_inp=VCN_c10_XM13nacncoop_II_soma=1.489_dend=1.236_all_multisite_050_tonepip_030dB_16000.0_MS.p'\n",
    "files = list(Path('ForGeorge').glob('*'))\n",
    "# print('   ', fnb1)\n",
    "# for f in files:\n",
    "#     print('   ', str(f))\n",
    "\n",
    "#     print('')\n",
    "#     #print(str(f) == fnb2)\n",
    "    \n",
    "# print(os.getcwd())\n",
    "if not Path(fnb1).is_file():\n",
    "    print('not a file? ', fnb1)\n",
    "    assert 1==0\n",
    "\n",
    "if not Path(fnb2).is_file():\n",
    "    print('not a file? ', fnb2)\n",
    "    assert 1==0\n",
    "\n",
    "def get_one(fn):\n",
    "    d = pickle.load(open(fn, 'rb'))\n",
    "#     print(d.keys())\n",
    "#     print('NTrials: ', len(d['trials']))\n",
    "#     print(d['Params'].keys())\n",
    "    return d\n",
    "\n",
    "d1 = get_one(fnb1)\n",
    "d2 = get_one(fnb2)\n",
    "# print(d['trials'][0]['inputSpikeTimes'])\n",
    "# print(d)\n",
    "\n"
   ]
  },
  {
   "cell_type": "code",
   "execution_count": 88,
   "metadata": {},
   "outputs": [
    {
     "name": "stdout",
     "output_type": "stream",
     "text": [
      "dict_keys([0, 1, 2, 3, 4, 5, 6, 7, 8, 9, 10, 11, 12, 13, 14, 15, 16, 17, 18, 19, 20, 21, 22, 23, 24, 25, 26, 27, 28, 29, 30, 31, 32, 33, 34, 35, 36, 37, 38, 39, 40, 41, 42, 43, 44, 45, 46, 47, 48, 49])\n",
      "AN: N=50  mean=4.1124 std=1.3379\n",
      "      median: 3.5900\n",
      "VCN_c09 FSL: N=49  mean=4.5255 std=0.7234\n",
      "      median: 4.3250\n",
      "VCN_c09 with VCN_c10: FSL: N=49  mean=4.5597 std=0.3581\n",
      "      median: 4.4750\n"
     ]
    }
   ],
   "source": [
    "print(d1['trials'].keys())\n",
    "maxfsl = 0.010\n",
    "fslan = []\n",
    "pan = []\n",
    "for trial in d1['trials']:\n",
    "    latan = np.array(d1['trials'][trial]['inputSpikeTimes'][0])/1000.-0.1\n",
    "    fslan.append(latan[latan > 0][0])\n",
    "    pan.extend(latan)\n",
    "fslan = np.array(fslan)\n",
    "fslan = fslan[fslan < maxfsl]\n",
    "print(f\"AN: N={len(fslan):d}  mean={1e3*np.mean(fslan):.4f} std={1e3*np.std(fslan):.4f}\")\n",
    "print(f\"      median: {1e3*np.median(fslan):.4f}\")\n",
    "\n",
    "\n",
    "\n",
    "psc = []\n",
    "fslc = []\n",
    "for trial in d1['trials']:\n",
    "            # print (trial)\n",
    "    latc = np.array(d1['trials'][trial]['spikeTimes'])/1000.-0.1\n",
    "    fslc.append(latc[latc > 0][0])\n",
    "    psc.extend(latc)\n",
    "fslc = np.array(fslc)\n",
    "fslc = fslc[fslc < maxfsl]\n",
    "print(f\"VCN_c09 FSL: N={len(fslc):d}  mean={1e3*np.mean(fslc):.4f} std={1e3*np.std(fslc):.4f}\")\n",
    "print(f\"      median: {1e3*np.median(fslc):.4f}\")\n",
    "\n",
    "\n",
    "psd = []\n",
    "fsld = []\n",
    "for trial in d2['trials']:\n",
    "            # print (trial)\n",
    "    latd = np.array(d2['trials'][trial]['spikeTimes'])/1000.-0.1\n",
    "#     print(trial, latd)\n",
    "    fsld.append(latd[latd > 0][0])\n",
    "#     print(fsld[-1])\n",
    "    psd.extend(latd)\n",
    "# print(np.array(psd).ravel())\n",
    "fsld = np.array(fsld)\n",
    "fsld = fsld[fsld < maxfsl]\n",
    "print(f\"VCN_c09 with VCN_c10: FSL: N={len(fsld):d}  mean={1e3*np.mean(fsld):.4f} std={1e3*np.std(fsld):.4f}\")\n",
    "print(f\"      median: {1e3*np.median(fsld):.4f}\")\n",
    "\n",
    "bins = np.arange(0, 0.12, 0.001)\n",
    "fslbins = np.arange(0, 0.02, 0.0005)\n",
    "f, ax = mpl.subplots(3,2)\n",
    "ax = ax.ravel()\n",
    "ax[0].hist(np.array(pan).ravel(), bins=bins)\n",
    "ax[2].hist(np.array(psc).ravel(), bins=bins)\n",
    "ax[4].hist(np.array(psd).ravel(), bins=bins)\n",
    "ax[1].hist(np.array(fslan), bins=fslbins)\n",
    "ax[3].hist(np.array(fslc), bins=fslbins)\n",
    "\n",
    "ax[5].hist(np.array(fsld), bins=fslbins)\n",
    "\n",
    "mpl.show()\n",
    "\n"
   ]
  }
 ],
 "metadata": {
  "kernelspec": {
   "display_name": "Python 3",
   "language": "python",
   "name": "python3"
  },
  "language_info": {
   "codemirror_mode": {
    "name": "ipython",
    "version": 3
   },
   "file_extension": ".py",
   "mimetype": "text/x-python",
   "name": "python",
   "nbconvert_exporter": "python",
   "pygments_lexer": "ipython3",
   "version": "3.6.5"
  }
 },
 "nbformat": 4,
 "nbformat_minor": 2
}
