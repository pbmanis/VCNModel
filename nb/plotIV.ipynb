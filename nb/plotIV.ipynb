{
 "cells": [
  {
   "cell_type": "code",
   "execution_count": 33,
   "metadata": {},
   "outputs": [
    {
     "name": "stdout",
     "output_type": "stream",
     "text": [
      " 0:  initIV-all-2020-11-06.09-50-10  2020-11-06-09:50\n",
      " 1:  VCN_c02_pulse_XM13_nacncoop_II_monitor.p  2020-04-06-10:43\n",
      " 2:  testIV-all-2020-10-22.16-21-17  2020-10-22-16:21\n",
      " 3:  testIV-all-2020-11-06.09-44-15  2020-11-06-09:44\n",
      " 4:  VCN_c02_pulse_XM13_nacncoop_II_soma=1.462_dend=1.465_ASA=1.462_monitor.p  2020-05-04-11:22\n",
      " 5:  VCN_c02_pulse_XM13_nacncoop_II_monitor_.p  2020-03-15-10:54\n",
      " 6:  VCN_c02_pulse_XM13_nacncoop_II_soma=1.462_monitor_.p  2020-04-28-17:01\n",
      " 7:  testIV-all-2020-11-06.09-50-16  2020-11-06-09:50\n",
      " 8:  initIV-all-2020-11-06.09-44-07  2020-11-06-09:44\n"
     ]
    }
   ],
   "source": [
    "%matplotlib qt\n",
    "import matplotlib\n",
    "import datetime\n",
    "matplotlib.use('Qt5Agg')\n",
    "import matplotlib.pyplot as mpl\n",
    "from pathlib import Path\n",
    "import pandas as pd\n",
    "# from pylibrary import Params\n",
    "base = \"/Users/pbmanis/Desktop/Python/VCN-SBEM-Data\"\n",
    "cell = 2\n",
    "iv_simpath = f\"VCN_Cells/VCN_c{cell:02d}/Simulations/IV/\"\n",
    "simdir = Path(base, iv_simpath)\n",
    "files = list(simdir.glob('*'))\n",
    "for i, f in enumerate(files):\n",
    "    mtime = f.stat().st_mtime\n",
    "    timestamp_str = datetime.datetime.fromtimestamp(mtime).strftime(\n",
    "            \"%Y-%m-%d-%H:%M\"\n",
    "        )\n",
    "    print(f\" {i:d}:  {str(f.name):s}  {timestamp_str:s}\")\n",
    "fn = Path(base, iv_simpath, files[1])\n",
    "fn.is_file()\n",
    "\n",
    "d = pd.read_pickle(fn)"
   ]
  },
  {
   "cell_type": "code",
   "execution_count": null,
   "metadata": {},
   "outputs": [],
   "source": []
  },
  {
   "cell_type": "code",
   "execution_count": 34,
   "metadata": {},
   "outputs": [
    {
     "name": "stdout",
     "output_type": "stream",
     "text": [
      "dict_keys(['basename', 'runInfo', 'modelPars', 'Params', 'Results'])\n"
     ]
    }
   ],
   "source": [
    "print(d.keys())\n",
    "# print(d['runInfo'])"
   ]
  },
  {
   "cell_type": "code",
   "execution_count": 38,
   "metadata": {},
   "outputs": [
    {
     "name": "stdout",
     "output_type": "stream",
     "text": [
      "dict_keys([-1.0])\n"
     ]
    },
    {
     "ename": "TypeError",
     "evalue": "list indices must be integers or slices, not dict",
     "output_type": "error",
     "traceback": [
      "\u001b[0;31m---------------------------------------------------------------------------\u001b[0m",
      "\u001b[0;31mTypeError\u001b[0m                                 Traceback (most recent call last)",
      "\u001b[0;32m<ipython-input-38-a4e2a3f885a0>\u001b[0m in \u001b[0;36m<module>\u001b[0;34m\u001b[0m\n\u001b[1;32m      9\u001b[0m \u001b[0;32mfor\u001b[0m \u001b[0mi\u001b[0m\u001b[0;34m,\u001b[0m \u001b[0mR\u001b[0m \u001b[0;32min\u001b[0m \u001b[0menumerate\u001b[0m\u001b[0;34m(\u001b[0m\u001b[0md\u001b[0m\u001b[0;34m[\u001b[0m\u001b[0;34m'Results'\u001b[0m\u001b[0;34m]\u001b[0m\u001b[0;34m)\u001b[0m\u001b[0;34m:\u001b[0m\u001b[0;34m\u001b[0m\u001b[0;34m\u001b[0m\u001b[0m\n\u001b[1;32m     10\u001b[0m     \u001b[0mprint\u001b[0m\u001b[0;34m(\u001b[0m\u001b[0mR\u001b[0m\u001b[0;34m.\u001b[0m\u001b[0mkeys\u001b[0m\u001b[0;34m(\u001b[0m\u001b[0;34m)\u001b[0m\u001b[0;34m)\u001b[0m\u001b[0;34m\u001b[0m\u001b[0;34m\u001b[0m\u001b[0m\n\u001b[0;32m---> 11\u001b[0;31m     \u001b[0mdata\u001b[0m \u001b[0;34m=\u001b[0m \u001b[0md\u001b[0m\u001b[0;34m[\u001b[0m\u001b[0;34m'Results'\u001b[0m\u001b[0;34m]\u001b[0m\u001b[0;34m[\u001b[0m\u001b[0mR\u001b[0m\u001b[0;34m]\u001b[0m\u001b[0;34m\u001b[0m\u001b[0;34m\u001b[0m\u001b[0m\n\u001b[0m\u001b[1;32m     12\u001b[0m     \u001b[0mprint\u001b[0m\u001b[0;34m(\u001b[0m\u001b[0mdata\u001b[0m\u001b[0;34m)\u001b[0m\u001b[0;34m\u001b[0m\u001b[0;34m\u001b[0m\u001b[0m\n\u001b[1;32m     13\u001b[0m     \u001b[0minj\u001b[0m \u001b[0;34m=\u001b[0m \u001b[0mR\u001b[0m \u001b[0;31m# list(R.keys())[0]\u001b[0m\u001b[0;34m\u001b[0m\u001b[0;34m\u001b[0m\u001b[0m\n",
      "\u001b[0;31mTypeError\u001b[0m: list indices must be integers or slices, not dict"
     ]
    }
   ],
   "source": [
    "\"\"\"\n",
    "Plot IV, soma voltage\n",
    "\"\"\"\n",
    "f, ax = mpl.subplots(2,1, gridspec_kw={'height_ratios': [4, 1]})\n",
    "spines_to_remove = ['top', 'right']\n",
    "for a in ax:\n",
    "    for spine in spines_to_remove:\n",
    "        a.spines[spine].set_visible(False)\n",
    "for i, R in enumerate(d['Results']):\n",
    "    print(R.keys())\n",
    "    data = d['Results'][R]\n",
    "    print(data)\n",
    "    inj = R # list(R.keys())[0] \n",
    "    ax[0].plot(R[inj]['monitor']['time'], R[inj]['monitor']['postsynapticV'])\n",
    "    ax[1].plot(R[inj]['monitor']['time'], R[inj]['monitor']['postsynapticI'])\n",
    "\n",
    "\n",
    "mpl.show()"
   ]
  },
  {
   "cell_type": "code",
   "execution_count": 12,
   "metadata": {},
   "outputs": [],
   "source": [
    "\"\"\"\n",
    "Plot highest current, all locations\n",
    "\"\"\"\n",
    "f, ax = mpl.subplots(1,1)\n",
    "spines_to_remove = ['top', 'right']\n",
    "ax = [ax]\n",
    "for a in ax:\n",
    "    for spine in spines_to_remove:\n",
    "        a.spines[spine].set_visible(False)\n",
    "for i, R in enumerate(d['Results']):\n",
    "    if i < len(d['Results'])-1:\n",
    "        continue\n",
    "#     print(R)\n",
    "    inj = list(R.keys())[0]\n",
    "    r = R[inj]\n",
    "    for v in r['vec']:\n",
    "        ax[0].plot(r['monitor']['time'], r['vec'][v])\n",
    "mpl.show()"
   ]
  },
  {
   "cell_type": "code",
   "execution_count": null,
   "metadata": {},
   "outputs": [],
   "source": []
  },
  {
   "cell_type": "code",
   "execution_count": null,
   "metadata": {},
   "outputs": [],
   "source": []
  }
 ],
 "metadata": {
  "kernelspec": {
   "display_name": "Python 3",
   "language": "python",
   "name": "python3"
  },
  "language_info": {
   "codemirror_mode": {
    "name": "ipython",
    "version": 3
   },
   "file_extension": ".py",
   "mimetype": "text/x-python",
   "name": "python",
   "nbconvert_exporter": "python",
   "pygments_lexer": "ipython3",
   "version": "3.8.6"
  }
 },
 "nbformat": 4,
 "nbformat_minor": 4
}
