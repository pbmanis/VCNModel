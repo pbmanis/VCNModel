{
 "cells": [
  {
   "cell_type": "code",
   "execution_count": 9,
   "metadata": {},
   "outputs": [],
   "source": [
    "%matplotlib qt\n",
    "import matplotlib\n",
    "matplotlib.use('Qt5Agg')\n",
    "import matplotlib.pyplot as mpl\n",
    "from pathlib import Path\n",
    "import pandas as pd\n",
    "fn = Path('../VCN_Cells/VCN_c06/Simulations/IV/VCN_c06_pulse_XM13_nacncoop_II_monitor_noDendNa_Full.p')\n",
    "fn.is_file()\n",
    "\n",
    "d = pd.read_pickle(fn)"
   ]
  },
  {
   "cell_type": "code",
   "execution_count": 10,
   "metadata": {},
   "outputs": [
    {
     "name": "stdout",
     "output_type": "stream",
     "text": [
      "dict_keys(['basename', 'runInfo', 'modelPars', 'Results'])\n",
      "{'folder': PosixPath('VCN_Cells/VCN_c06/Simulations/IV'), 'fileName': 'Normal', 'runName': 'Run', 'manipulation': 'Canonical', 'preMode': 'cc', 'postMode': 'cc', 'TargetCellType': 'Bushy', 'electrodeSection': 'soma', 'dendriticElectrodeSection': 'soma', 'dendriticSectionDistance': 100.0, 'celsius': 34.0, 'nStim': 1, 'stimFreq': 200.0, 'stimInj': {'pulse': (-1, 1, 0.05)}, 'stimDur': 100.0, 'stimDelay': 5.0, 'stimPost': 3.0, 'vnStim': 1, 'vstimFreq': 200.0, 'vstimInj': 50, 'vstimDur': 50.0, 'vstimDelay': 2.0, 'vstimPost': 3.0, 'vstimHolding': -60, 'gif_i0': 0.0, 'gif_sigma': 0.2, 'gif_fmod': 0.2, 'gif_tau': 3.0, 'gif_dur': 10.0, 'gif_skew': 0.0, 'runTime': 'Tue Feb  4 16:51:03 2020', 'inFile': None, 'inFileRep': 1, 'spikeTimeList': {}, 'v_init': -61.0, 'useSaveState': True, 'tstop': 8.0, 'filename': 'VCN_c06_Full_pulse_', 'clist': {}}\n"
     ]
    }
   ],
   "source": [
    "print(d.keys())\n",
    "print(d['runInfo'])"
   ]
  },
  {
   "cell_type": "code",
   "execution_count": 11,
   "metadata": {},
   "outputs": [],
   "source": [
    "\"\"\"\n",
    "Plot IV, soma voltage\n",
    "\"\"\"\n",
    "f, ax = mpl.subplots(2,1, gridspec_kw={'height_ratios': [4, 1]})\n",
    "spines_to_remove = ['top', 'right']\n",
    "for a in ax:\n",
    "    for spine in spines_to_remove:\n",
    "        a.spines[spine].set_visible(False)\n",
    "for i, R in enumerate(d['Results']):\n",
    "#     print(R.keys())\n",
    "    inj = list(R.keys())[0] \n",
    "    ax[0].plot(R[inj]['monitor']['time'], R[inj]['monitor']['postsynapticV'])\n",
    "    ax[1].plot(R[inj]['monitor']['time'], R[inj]['monitor']['postsynapticI'])\n",
    "\n",
    "\n",
    "mpl.show()"
   ]
  },
  {
   "cell_type": "code",
   "execution_count": 12,
   "metadata": {},
   "outputs": [],
   "source": [
    "\"\"\"\n",
    "Plot highest current, all locations\n",
    "\"\"\"\n",
    "f, ax = mpl.subplots(1,1)\n",
    "spines_to_remove = ['top', 'right']\n",
    "ax = [ax]\n",
    "for a in ax:\n",
    "    for spine in spines_to_remove:\n",
    "        a.spines[spine].set_visible(False)\n",
    "for i, R in enumerate(d['Results']):\n",
    "    if i < len(d['Results'])-1:\n",
    "        continue\n",
    "#     print(R)\n",
    "    inj = list(R.keys())[0]\n",
    "    r = R[inj]\n",
    "    for v in r['vec']:\n",
    "        ax[0].plot(r['monitor']['time'], r['vec'][v])\n",
    "mpl.show()"
   ]
  },
  {
   "cell_type": "code",
   "execution_count": null,
   "metadata": {},
   "outputs": [],
   "source": []
  },
  {
   "cell_type": "code",
   "execution_count": null,
   "metadata": {},
   "outputs": [],
   "source": []
  }
 ],
 "metadata": {
  "kernelspec": {
   "display_name": "Python 3",
   "language": "python",
   "name": "python3"
  },
  "language_info": {
   "codemirror_mode": {
    "name": "ipython",
    "version": 3
   },
   "file_extension": ".py",
   "mimetype": "text/x-python",
   "name": "python",
   "nbconvert_exporter": "python",
   "pygments_lexer": "ipython3",
   "version": "3.6.5"
  }
 },
 "nbformat": 4,
 "nbformat_minor": 2
}
